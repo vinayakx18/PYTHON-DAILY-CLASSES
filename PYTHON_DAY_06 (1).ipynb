{
  "nbformat": 4,
  "nbformat_minor": 0,
  "metadata": {
    "colab": {
      "provenance": []
    },
    "kernelspec": {
      "name": "python3",
      "display_name": "Python 3"
    },
    "language_info": {
      "name": "python"
    }
  },
  "cells": [
    {
      "cell_type": "code",
      "execution_count": null,
      "metadata": {
        "colab": {
          "base_uri": "https://localhost:8080/"
        },
        "id": "jgL7Mqwr95LY",
        "outputId": "f6c0f4ad-a1fd-4e76-9597-d302a02764e8"
      },
      "outputs": [
        {
          "output_type": "stream",
          "name": "stdout",
          "text": [
            "total vowels is : 8\n"
          ]
        }
      ],
      "source": [
        "sentense = \"python programming language\"\n",
        "count = 0\n",
        "for ch in sentense :\n",
        "  if ch in \"aeiou\" :\n",
        "     count+=1\n",
        "print(\"total vowels is :\",count)"
      ]
    },
    {
      "cell_type": "code",
      "source": [
        "# write a program area of triangle\n",
        "\n",
        "base = 4\n",
        "height = 5\n",
        "area = 0.5 * base * height\n",
        "print(f\"The area of the triangle with base {base} and height {height} is: {area}\")"
      ],
      "metadata": {
        "colab": {
          "base_uri": "https://localhost:8080/"
        },
        "id": "Ige1p_1gAMUs",
        "outputId": "816a58cc-4330-4f90-ce23-be83fe800e4b"
      },
      "execution_count": null,
      "outputs": [
        {
          "output_type": "stream",
          "name": "stdout",
          "text": [
            "The area of the triangle with base 4 and height 5 is: 10.0\n"
          ]
        }
      ]
    },
    {
      "cell_type": "code",
      "source": [
        "# write a program area of circle\n",
        "\n",
        "radius = 4\n",
        "area = 3.14 * radius**2\n",
        "print(\"area of the cirle is :\",area)"
      ],
      "metadata": {
        "colab": {
          "base_uri": "https://localhost:8080/"
        },
        "id": "oLDcPoSZA3PM",
        "outputId": "b865be87-f3b3-419a-fd6a-2848335fc636"
      },
      "execution_count": null,
      "outputs": [
        {
          "output_type": "stream",
          "name": "stdout",
          "text": [
            "area of the cirle is : 50.24\n"
          ]
        }
      ]
    },
    {
      "cell_type": "code",
      "source": [
        "# largest number\n",
        "\n",
        "ex = [5,25,35,28,45,10,15]\n",
        "largest_number = ex[0]\n",
        "for num in ex :\n",
        "  if num > largest_number :\n",
        "    largest_number = num\n",
        "print(\"largest number is :\",largest_number)"
      ],
      "metadata": {
        "colab": {
          "base_uri": "https://localhost:8080/"
        },
        "id": "_hTZZoZXB1Gr",
        "outputId": "cfcc1c45-db4e-4079-d04b-2f9c5339ac6d"
      },
      "execution_count": null,
      "outputs": [
        {
          "output_type": "stream",
          "name": "stdout",
          "text": [
            "largest number is : 45\n"
          ]
        }
      ]
    },
    {
      "cell_type": "code",
      "source": [
        "# write a programe count of consonents in string value\n",
        "# \"bachelor of computer science first semester section c\"\n",
        "sentense = \"bachelorofcomputersciencefirstsemestersectionc\"\n",
        "count = 0\n",
        "for ch in sentense :\n",
        "  if ch not in \"aeiou\":\n",
        "     count+=1\n",
        "print(\"total consonents is :\",count)"
      ],
      "metadata": {
        "colab": {
          "base_uri": "https://localhost:8080/"
        },
        "id": "NiGKQSmkEzQk",
        "outputId": "36c1d20b-8b42-48c3-8e5a-a9e95d6adcdc"
      },
      "execution_count": null,
      "outputs": [
        {
          "output_type": "stream",
          "name": "stdout",
          "text": [
            "total consonents is : 29\n"
          ]
        }
      ]
    },
    {
      "cell_type": "code",
      "source": [
        "bikes = [\"RX 100\", \"GT 650\",\"Ninja\",\"Splender\",\"Bajaj\",\"Pulsar\",\"NS 200\",\"M 80\",\"Unicorn\"]\n",
        "for bike in bikes:\n",
        "    if bike == \"NS 200\" :\n",
        "      break\n",
        "    print(bike)\n"
      ],
      "metadata": {
        "id": "bAA6Qd_9JRrb",
        "colab": {
          "base_uri": "https://localhost:8080/"
        },
        "outputId": "57b36640-4892-4f1d-8dd4-049c68f879c0"
      },
      "execution_count": 41,
      "outputs": [
        {
          "output_type": "stream",
          "name": "stdout",
          "text": [
            "RX 100\n",
            "GT 650\n",
            "Ninja\n",
            "Splender\n",
            "Bajaj\n",
            "Pulsar\n"
          ]
        }
      ]
    },
    {
      "cell_type": "code",
      "source": [
        "bikes = [\"RX 100\", \"GT 650\",\"Ninja\",\"Splender\",\"Bajaj\",\"Pulsar\",\"NS 200\",\"M 80\",\"Unicorn\"]\n",
        "for bike in bikes:\n",
        "    if bike == \"NS 200\" :\n",
        "      break\n",
        "    print(bike)"
      ],
      "metadata": {
        "colab": {
          "base_uri": "https://localhost:8080/"
        },
        "id": "sV18n-L-eCyS",
        "outputId": "7363594f-16a2-4187-857a-98395725dc03"
      },
      "execution_count": 42,
      "outputs": [
        {
          "output_type": "stream",
          "name": "stdout",
          "text": [
            "RX 100\n",
            "GT 650\n",
            "Ninja\n",
            "Splender\n",
            "Bajaj\n",
            "Pulsar\n"
          ]
        }
      ]
    },
    {
      "cell_type": "code",
      "source": [
        "fruits = (\"apple\",\"orange\",\"mango\",\"strawberry\",\"dragon fruit\",\"banana\",\"kiwi\",\"greeps\",\"pinaple\",\"pappaya\",\"greeps\")\n",
        "for fruit in fruits:\n",
        "    if fruit == \"mango\" :\n",
        "      continue\n",
        "    print(fruit)"
      ],
      "metadata": {
        "colab": {
          "base_uri": "https://localhost:8080/"
        },
        "id": "pV_xU7-gech0",
        "outputId": "418b09b4-ebe7-430b-c810-75a329304171"
      },
      "execution_count": 45,
      "outputs": [
        {
          "output_type": "stream",
          "name": "stdout",
          "text": [
            "apple\n",
            "orange\n",
            "strawberry\n",
            "dragon fruit\n",
            "banana\n",
            "kiwi\n",
            "greeps\n",
            "pinaple\n",
            "pappaya\n",
            "greeps\n"
          ]
        }
      ]
    },
    {
      "cell_type": "code",
      "source": [
        "mobiles = {\"vivo\",\"redmi\",\"oppo\",\"oppo\",\"vivo\",\"iqee\",\"vivo\",\"1 plue\"}\n",
        "for mobile in mobiles :\n",
        "  if mobile == \"vivo\" :\n",
        "    continue\n",
        "  print (mobile)"
      ],
      "metadata": {
        "colab": {
          "base_uri": "https://localhost:8080/"
        },
        "id": "cuVX5o-OhyXM",
        "outputId": "1234c82d-d3f7-4e67-a6e4-76f7e921705c"
      },
      "execution_count": 57,
      "outputs": [
        {
          "output_type": "stream",
          "name": "stdout",
          "text": [
            "oppo\n",
            "redmi\n",
            "iqee\n",
            "1 plue\n"
          ]
        }
      ]
    },
    {
      "cell_type": "code",
      "source": [
        "movies = [\"kgf\",\"chhava\",\"bahubali\",\"saiyara\",\"rrr\",\"kalki\"]\n",
        "for movie in movies :\n",
        "  if movie == \"rrr\" :\n",
        "    pass\n",
        "  print(movie)"
      ],
      "metadata": {
        "colab": {
          "base_uri": "https://localhost:8080/"
        },
        "id": "Y4c5eemGjc46",
        "outputId": "37d057be-d1ae-42af-d7cf-21f9953862e0"
      },
      "execution_count": 60,
      "outputs": [
        {
          "output_type": "stream",
          "name": "stdout",
          "text": [
            "kgf\n",
            "chhava\n",
            "bahubali\n",
            "saiyara\n",
            "rrr\n",
            "kalki\n"
          ]
        }
      ]
    },
    {
      "cell_type": "code",
      "source": [
        "things = {\"mobile\",\"laptop\",\"manitor\",\"tab\",\"book\",\"pen\",\"paper\"}\n",
        "for thing in things :\n",
        "    if thing == \"mobile\" :\n",
        "       continue\n",
        "    print(thing)"
      ],
      "metadata": {
        "colab": {
          "base_uri": "https://localhost:8080/"
        },
        "id": "dAA1pgc_mQ4z",
        "outputId": "c9e3c120-f5cf-4eb7-f12c-5ceb52870d51"
      },
      "execution_count": 63,
      "outputs": [
        {
          "output_type": "stream",
          "name": "stdout",
          "text": [
            "paper\n",
            "manitor\n",
            "laptop\n",
            "tab\n",
            "book\n",
            "pen\n"
          ]
        }
      ]
    },
    {
      "cell_type": "code",
      "source": [
        "for i in range (10) :\n",
        "  for j in range (10) :\n",
        "    print(i,end=\" \")\n",
        "  print()"
      ],
      "metadata": {
        "colab": {
          "base_uri": "https://localhost:8080/"
        },
        "id": "khXQDF27niz0",
        "outputId": "fb3bc93a-f2a2-448b-9919-e338834730fc"
      },
      "execution_count": 81,
      "outputs": [
        {
          "output_type": "stream",
          "name": "stdout",
          "text": [
            "0 0 0 0 0 0 0 0 0 0 \n",
            "1 1 1 1 1 1 1 1 1 1 \n",
            "2 2 2 2 2 2 2 2 2 2 \n",
            "3 3 3 3 3 3 3 3 3 3 \n",
            "4 4 4 4 4 4 4 4 4 4 \n",
            "5 5 5 5 5 5 5 5 5 5 \n",
            "6 6 6 6 6 6 6 6 6 6 \n",
            "7 7 7 7 7 7 7 7 7 7 \n",
            "8 8 8 8 8 8 8 8 8 8 \n",
            "9 9 9 9 9 9 9 9 9 9 \n"
          ]
        }
      ]
    },
    {
      "cell_type": "code",
      "source": [
        "for i in range (10) :\n",
        "  for j in range (10) :\n",
        "    print(j,end=\" \")\n",
        "  print()"
      ],
      "metadata": {
        "colab": {
          "base_uri": "https://localhost:8080/"
        },
        "id": "siqrPe_lrLba",
        "outputId": "516ae0e5-08a0-4282-fd1c-47876075587d"
      },
      "execution_count": 82,
      "outputs": [
        {
          "output_type": "stream",
          "name": "stdout",
          "text": [
            "0 1 2 3 4 5 6 7 8 9 \n",
            "0 1 2 3 4 5 6 7 8 9 \n",
            "0 1 2 3 4 5 6 7 8 9 \n",
            "0 1 2 3 4 5 6 7 8 9 \n",
            "0 1 2 3 4 5 6 7 8 9 \n",
            "0 1 2 3 4 5 6 7 8 9 \n",
            "0 1 2 3 4 5 6 7 8 9 \n",
            "0 1 2 3 4 5 6 7 8 9 \n",
            "0 1 2 3 4 5 6 7 8 9 \n",
            "0 1 2 3 4 5 6 7 8 9 \n"
          ]
        }
      ]
    },
    {
      "cell_type": "code",
      "source": [
        "for i in range (1,11) :\n",
        "  for j in range (j) :\n",
        "    print(j,end=\" \")\n",
        "  print()"
      ],
      "metadata": {
        "colab": {
          "base_uri": "https://localhost:8080/"
        },
        "id": "KHmErGlOsSFa",
        "outputId": "8e4d77b1-c728-4fa6-8b07-dc85f77c37e4"
      },
      "execution_count": 104,
      "outputs": [
        {
          "output_type": "stream",
          "name": "stdout",
          "text": [
            "0 1 2 3 4 5 6 7 8 \n",
            "0 1 2 3 4 5 6 7 \n",
            "0 1 2 3 4 5 6 \n",
            "0 1 2 3 4 5 \n",
            "0 1 2 3 4 \n",
            "0 1 2 3 \n",
            "0 1 2 \n",
            "0 1 \n",
            "0 \n",
            "\n"
          ]
        }
      ]
    },
    {
      "cell_type": "code",
      "source": [
        "for i in range(5) :\n",
        "  for j in range( 0,i+1) :\n",
        "    print(\" \",end=\" \")\n",
        "  for j in range (10) :\n",
        "    print (\"*\",end=\" \")\n",
        "  print()"
      ],
      "metadata": {
        "colab": {
          "base_uri": "https://localhost:8080/"
        },
        "id": "fvVnlMNW94mZ",
        "outputId": "a6a2fcc0-01fa-4c2a-cacf-ae554966b0b1"
      },
      "execution_count": 116,
      "outputs": [
        {
          "output_type": "stream",
          "name": "stdout",
          "text": [
            "  * * * * * * * * * * \n",
            "    * * * * * * * * * * \n",
            "      * * * * * * * * * * \n",
            "        * * * * * * * * * * \n",
            "          * * * * * * * * * * \n"
          ]
        }
      ]
    },
    {
      "cell_type": "code",
      "source": [
        "for i in range(5) :\n",
        "  for j in range( i+1,5) :\n",
        "    print(\" \",end=\" \")\n",
        "  for j in range (10) :\n",
        "    print (\"😁\",end=\" \")\n",
        "  print()"
      ],
      "metadata": {
        "colab": {
          "base_uri": "https://localhost:8080/"
        },
        "id": "4BBtyPXQ_dsz",
        "outputId": "b10a0250-eb41-44f7-ee29-fae068f7b15b"
      },
      "execution_count": 127,
      "outputs": [
        {
          "output_type": "stream",
          "name": "stdout",
          "text": [
            "        😁 😁 😁 😁 😁 😁 😁 😁 😁 😁 \n",
            "      😁 😁 😁 😁 😁 😁 😁 😁 😁 😁 \n",
            "    😁 😁 😁 😁 😁 😁 😁 😁 😁 😁 \n",
            "  😁 😁 😁 😁 😁 😁 😁 😁 😁 😁 \n",
            "😁 😁 😁 😁 😁 😁 😁 😁 😁 😁 \n"
          ]
        }
      ]
    },
    {
      "cell_type": "code",
      "source": [
        "row = 10\n",
        "col = 10\n",
        "for i in range (0,row) :\n",
        "  for j in range (0,col) :\n",
        "    if i == 0 or j == 0 or i == row-1 or j == col-1 :\n",
        "      print(\"*\",end=\" \")\n",
        "    else :\n",
        "      print(\" \",end=\" \")\n",
        "  print()"
      ],
      "metadata": {
        "colab": {
          "base_uri": "https://localhost:8080/"
        },
        "id": "tafWNXgrDblQ",
        "outputId": "0c2882ca-c5af-4bc8-a2cb-a0129af6b806"
      },
      "execution_count": 130,
      "outputs": [
        {
          "output_type": "stream",
          "name": "stdout",
          "text": [
            "* * * * * * * * * * \n",
            "*                 * \n",
            "*                 * \n",
            "*                 * \n",
            "*                 * \n",
            "*                 * \n",
            "*                 * \n",
            "*                 * \n",
            "*                 * \n",
            "* * * * * * * * * * \n"
          ]
        }
      ]
    },
    {
      "cell_type": "code",
      "source": [
        "for i in range (10) :\n",
        "  for j in range (i) :\n",
        "    print (\"*\",end=\" \")\n",
        "  print()"
      ],
      "metadata": {
        "colab": {
          "base_uri": "https://localhost:8080/"
        },
        "id": "sn5H-VOPF8-e",
        "outputId": "631b4eb8-555e-4613-c940-6c8b5021bc0c"
      },
      "execution_count": 131,
      "outputs": [
        {
          "output_type": "stream",
          "name": "stdout",
          "text": [
            "\n",
            "* \n",
            "* * \n",
            "* * * \n",
            "* * * * \n",
            "* * * * * \n",
            "* * * * * * \n",
            "* * * * * * * \n",
            "* * * * * * * * \n",
            "* * * * * * * * * \n"
          ]
        }
      ]
    },
    {
      "cell_type": "code",
      "source": [
        "num = 7\n",
        "for i in range (0,num) :\n",
        "  for j in range (0,num-i-1) :\n",
        "    print (\" \",end=\" \")\n",
        "  for j in range (0,i*2+1) :\n",
        "    print (\"*\",end=\" \")\n",
        "  print()"
      ],
      "metadata": {
        "colab": {
          "base_uri": "https://localhost:8080/"
        },
        "id": "eTAK7-IVGnLG",
        "outputId": "9c1d0156-fb81-4777-bcf1-660ab33aba00"
      },
      "execution_count": 132,
      "outputs": [
        {
          "output_type": "stream",
          "name": "stdout",
          "text": [
            "            * \n",
            "          * * * \n",
            "        * * * * * \n",
            "      * * * * * * * \n",
            "    * * * * * * * * * \n",
            "  * * * * * * * * * * * \n",
            "* * * * * * * * * * * * * \n"
          ]
        }
      ]
    },
    {
      "cell_type": "code",
      "source": [
        "num = 7\n",
        "for i in range (0,num) :\n",
        "  for j in range (0,num-i-1) :\n",
        "      print(\" \",end=\" \")\n",
        "  for j in range (0,i*2+1) :\n",
        "      print(chr(65 +j),end=\" \")\n",
        "  print()"
      ],
      "metadata": {
        "colab": {
          "base_uri": "https://localhost:8080/"
        },
        "id": "3fAPhhduJBuK",
        "outputId": "398c9ddc-0344-44da-fb4d-9fb62d48b660"
      },
      "execution_count": 138,
      "outputs": [
        {
          "output_type": "stream",
          "name": "stdout",
          "text": [
            "            A \n",
            "          A B C \n",
            "        A B C D E \n",
            "      A B C D E F G \n",
            "    A B C D E F G H I \n",
            "  A B C D E F G H I J K \n",
            "A B C D E F G H I J K L M \n"
          ]
        }
      ]
    },
    {
      "cell_type": "code",
      "source": [
        "num = 7\n",
        "for i in range (0,num) :\n",
        "  for j in range (0,num-i-1) :\n",
        "    print (\" \",end=\" \")\n",
        "  for j in range (0,i*2+1) :\n",
        "    print (\"*\",end=\" \")\n",
        "  print()\n",
        "for i in range (0,num) :\n",
        "    for j in range (1,i+1) :\n",
        "      print (\" \",end=\" \")\n",
        "    for j in range (0,num) :\n",
        "      print (\"*\",end=\" \")\n",
        "    print()"
      ],
      "metadata": {
        "colab": {
          "base_uri": "https://localhost:8080/"
        },
        "id": "8YPtbS3uK-MG",
        "outputId": "c80843a3-94c9-413a-bb48-46aae33cdebf"
      },
      "execution_count": 143,
      "outputs": [
        {
          "output_type": "stream",
          "name": "stdout",
          "text": [
            "            * \n",
            "          * * * \n",
            "        * * * * * \n",
            "      * * * * * * * \n",
            "    * * * * * * * * * \n",
            "  * * * * * * * * * * * \n",
            "* * * * * * * * * * * * * \n",
            "* * * * * * * \n",
            "  * * * * * * * \n",
            "    * * * * * * * \n",
            "      * * * * * * * \n",
            "        * * * * * * * \n",
            "          * * * * * * * \n",
            "            * * * * * * * \n"
          ]
        }
      ]
    },
    {
      "cell_type": "code",
      "source": [
        "num = 7\n",
        "for i in range(0,num):\n",
        "  for j in range(0,num-i-1):\n",
        "      print(\" \",end=\" \")\n",
        "  for j in range(0,i*2+++1):\n",
        "      print(\"*\",end=\" \")\n",
        "  print()\n",
        "for i in range(0,num):\n",
        "  for j in range(0,i):\n",
        "      print(\" \",end=\" \")\n",
        "  for j in range(0,(num-i)*2-1):\n",
        "      print(\"*\",end=\" \")\n",
        "  print()\n"
      ],
      "metadata": {
        "colab": {
          "base_uri": "https://localhost:8080/"
        },
        "id": "MY9vHszyMuX3",
        "outputId": "c25ceba8-96c6-4e2e-a0f1-5a3ccc971acd"
      },
      "execution_count": 146,
      "outputs": [
        {
          "output_type": "stream",
          "name": "stdout",
          "text": [
            "            * \n",
            "          * * * \n",
            "        * * * * * \n",
            "      * * * * * * * \n",
            "    * * * * * * * * * \n",
            "  * * * * * * * * * * * \n",
            "* * * * * * * * * * * * * \n",
            "* * * * * * * * * * * * * \n",
            "  * * * * * * * * * * * \n",
            "    * * * * * * * * * \n",
            "      * * * * * * * \n",
            "        * * * * * \n",
            "          * * * \n",
            "            * \n"
          ]
        }
      ]
    },
    {
      "cell_type": "code",
      "source": [
        "# 1) example\n",
        "def fun (num) :\n",
        "  return num*num\n",
        "print(fun(4))"
      ],
      "metadata": {
        "colab": {
          "base_uri": "https://localhost:8080/"
        },
        "id": "Kmikha8NST_H",
        "outputId": "4aac6c69-c92c-42ee-86ce-e477e1d5569f"
      },
      "execution_count": 148,
      "outputs": [
        {
          "output_type": "stream",
          "name": "stdout",
          "text": [
            "16\n"
          ]
        }
      ]
    },
    {
      "cell_type": "code",
      "source": [
        "from re import A\n",
        "def add(a,b):\n",
        "  print(f'addition of two numbers is {a+b}')\n",
        "add(5,10)"
      ],
      "metadata": {
        "colab": {
          "base_uri": "https://localhost:8080/"
        },
        "id": "x2jc0irRTsY1",
        "outputId": "c90dd1ac-f832-4333-af70-87564adf52f0"
      },
      "execution_count": 153,
      "outputs": [
        {
          "output_type": "stream",
          "name": "stdout",
          "text": [
            "addition of two numbers is 15\n"
          ]
        }
      ]
    },
    {
      "cell_type": "code",
      "source": [
        "def Example(roll_number,name,section,department,college) :\n",
        "  print(f\"My name is {name}, i'm studying {department} in {college} college. My roll_number is {roll_number} and section is {section}\")\n",
        "Example(101,\"sumit\",\"A\",\"BCA\",\"KLE\")\n"
      ],
      "metadata": {
        "colab": {
          "base_uri": "https://localhost:8080/"
        },
        "id": "3wMhi2QkUnvB",
        "outputId": "9b29e5e2-f469-4234-c2fe-28da848081b4"
      },
      "execution_count": 159,
      "outputs": [
        {
          "output_type": "stream",
          "name": "stdout",
          "text": [
            "My name is sumit, i'm studying BCA in KLE college. My roll_number is 101 and section is A\n"
          ]
        }
      ]
    },
    {
      "cell_type": "code",
      "source": [
        "def fun(name,game,time):\n",
        " print(f\"I'm {name};i'm playing {game} at {time} time\")\n",
        "fun(time=\"Evening\",name=\"suppya0008_\",game=\"freefire\")"
      ],
      "metadata": {
        "colab": {
          "base_uri": "https://localhost:8080/"
        },
        "id": "74VhLzmwc4Wz",
        "outputId": "34f47038-2055-48a9-b56f-124014abd8a1"
      },
      "execution_count": 162,
      "outputs": [
        {
          "output_type": "stream",
          "name": "stdout",
          "text": [
            "I'm suppya0008_;i'm playing freefire at Evening time\n"
          ]
        }
      ]
    },
    {
      "cell_type": "code",
      "source": [
        "def laptop(name = \"lenovo\"):\n",
        "  print(\"my laptop name is :\",name)\n",
        "laptop(\"dell\")\n",
        "laptop(\"hp\")\n",
        "laptop()\n",
        "laptop(\"asus\")"
      ],
      "metadata": {
        "colab": {
          "base_uri": "https://localhost:8080/"
        },
        "id": "n8K_wySYenRU",
        "outputId": "a84a8f4c-c91c-4cdb-ac77-58f39b2335d6"
      },
      "execution_count": 163,
      "outputs": [
        {
          "output_type": "stream",
          "name": "stdout",
          "text": [
            "my laptop name is : dell\n",
            "my laptop name is : hp\n",
            "my laptop name is : lenovo\n",
            "my laptop name is : asus\n"
          ]
        }
      ]
    }
  ]
}