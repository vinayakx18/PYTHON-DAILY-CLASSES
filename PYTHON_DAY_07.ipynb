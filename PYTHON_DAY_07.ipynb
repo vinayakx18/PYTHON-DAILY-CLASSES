{
  "nbformat": 4,
  "nbformat_minor": 0,
  "metadata": {
    "colab": {
      "provenance": []
    },
    "kernelspec": {
      "name": "python3",
      "display_name": "Python 3"
    },
    "language_info": {
      "name": "python"
    }
  },
  "cells": [
    {
      "cell_type": "code",
      "execution_count": 3,
      "metadata": {
        "colab": {
          "base_uri": "https://localhost:8080/"
        },
        "id": "5YRC-ZA9HFUm",
        "outputId": "06dda6cb-31a5-4ac7-ff4a-252f3c2e1fb0"
      },
      "outputs": [
        {
          "output_type": "stream",
          "name": "stdout",
          "text": [
            "Total value is: 15\n",
            "Total value is: 18\n",
            "Total value is: 24\n"
          ]
        }
      ],
      "source": [
        "\n",
        "# 1) Example sum of numbers using *args\n",
        "def add (*args):\n",
        "    total = 0\n",
        "    for num in args:\n",
        "        total += num\n",
        "    print(\"Total value is:\",total)\n",
        "\n",
        "add(10,5)\n",
        "add(5,4,9)\n",
        "add(10,14)"
      ]
    },
    {
      "cell_type": "code",
      "source": [
        "# Example sum of numbers using **kwargs\n",
        "def print_details(**kwargs):\n",
        "    for key, value in kwargs.items():\n",
        "        print(f\"{key}: {value}\")\n",
        "\n",
        "print_details(name=\"SUMIT\", age=19)\n",
        "print_details(city=\"bengaluru\")\n"
      ],
      "metadata": {
        "colab": {
          "base_uri": "https://localhost:8080/"
        },
        "id": "wQyDvmSrMZMg",
        "outputId": "bcd1318d-408f-43d3-c9bf-ab15b758c025"
      },
      "execution_count": 4,
      "outputs": [
        {
          "output_type": "stream",
          "name": "stdout",
          "text": [
            "name: SUMIT\n",
            "age: 19\n",
            "city: bengaluru\n"
          ]
        }
      ]
    },
    {
      "cell_type": "code",
      "source": [
        "def details(**kwargs):\n",
        "    for key, value in kwargs.items():\n",
        "        print(f\"my details is {key} and  {value}\")\n",
        "details(course=\"BCA\" , section='c',college=\"BK college\")\n",
        "details(place=\"dubai\")\n",
        "details(roll_no=201,t_subject=7)\n",
        "details(laptop=\"lenovo\",o_s=\"window\",year=2022,version=\"windows 11\")\n"
      ],
      "metadata": {
        "colab": {
          "base_uri": "https://localhost:8080/"
        },
        "id": "pBORS8scPd4g",
        "outputId": "51b97c74-1ba4-4f88-8732-13307077c7f6"
      },
      "execution_count": 10,
      "outputs": [
        {
          "output_type": "stream",
          "name": "stdout",
          "text": [
            "my details is course and  BCA\n",
            "my details is section and  c\n",
            "my details is college and  BK college\n",
            "my details is place and  dubai\n",
            "my details is roll_no and  201\n",
            "my details is t_subject and  7\n",
            "my details is laptop and  lenovo\n",
            "my details is o_s and  window\n",
            "my details is year and  2022\n",
            "my details is version and  windows 11\n"
          ]
        }
      ]
    },
    {
      "cell_type": "code",
      "source": [
        "# example of *args and **kwargs\n",
        "def show_values(*args, **kwargs):\n",
        "    print(\" positional Arguments represented in tuple\",args)\n",
        "    print(\"key - words arguments represented in dict\",kwargs)\n",
        "show_values(1,2,3,name=\"suppya0008\")\n",
        "\n",
        "show_values(5,8,1,10,Class=\"BCA c section \", gender=\"male\")\n"
      ],
      "metadata": {
        "colab": {
          "base_uri": "https://localhost:8080/"
        },
        "id": "A797obUdQFmR",
        "outputId": "8408813a-297a-4b64-901f-4c0478b4b38f"
      },
      "execution_count": 22,
      "outputs": [
        {
          "output_type": "stream",
          "name": "stdout",
          "text": [
            " positional Arguments represented in tuple (1, 2, 3)\n",
            "key - words arguments represented in dict {'name': 'suppya0008'}\n",
            " positional Arguments represented in tuple (5, 8, 1, 10)\n",
            "key - words arguments represented in dict {'Class': 'BCA c section ', 'gender': 'male'}\n"
          ]
        }
      ]
    },
    {
      "cell_type": "code",
      "source": [
        "fact=1\n",
        "for i in range(1,6):\n",
        "    fact=fact*i\n",
        "print(fact)"
      ],
      "metadata": {
        "colab": {
          "base_uri": "https://localhost:8080/"
        },
        "id": "CKf5k0FLUY2q",
        "outputId": "44bad357-ae02-46c3-cea6-62c852239e65"
      },
      "execution_count": 23,
      "outputs": [
        {
          "output_type": "stream",
          "name": "stdout",
          "text": [
            "120\n"
          ]
        }
      ]
    },
    {
      "cell_type": "code",
      "source": [
        "i=1\n",
        "fact=1\n",
        "while i<6:\n",
        "    fact=fact*i\n",
        "    i=i+1\n",
        "print(fact)"
      ],
      "metadata": {
        "colab": {
          "base_uri": "https://localhost:8080/"
        },
        "id": "zF-3v-hJUssK",
        "outputId": "56a15d5a-5171-4922-ad05-1c021d6d464c"
      },
      "execution_count": 25,
      "outputs": [
        {
          "output_type": "stream",
          "name": "stdout",
          "text": [
            "120\n"
          ]
        }
      ]
    },
    {
      "cell_type": "code",
      "source": [
        "def factorial(n):\n",
        "  \"\"\"Calculates the factorial of a non-negative integer.\"\"\"\n",
        "  if n == 0:\n",
        "    return 1\n",
        "  else:\n",
        "    fact = 1\n",
        "    for i in range(1, n + 1):\n",
        "      fact = fact * i\n",
        "    return fact\n",
        "\n",
        "# Example usage:\n",
        "num = 5\n",
        "result = factorial(num)\n",
        "print(f\"The factorial of {num} is: {result}\")\n",
        ""
      ],
      "metadata": {
        "colab": {
          "base_uri": "https://localhost:8080/"
        },
        "id": "iBEBBDRxVMoY",
        "outputId": "4af8f7fa-8bfe-449f-80ec-66ea7f6cccc8"
      },
      "execution_count": 28,
      "outputs": [
        {
          "output_type": "stream",
          "name": "stdout",
          "text": [
            "The factorial of 5 is: 120\n"
          ]
        }
      ]
    },
    {
      "cell_type": "code",
      "source": [
        "def fact(num) :\n",
        "  if num==0 or num==1:\n",
        "    return 1\n",
        "  else:\n",
        "    return num*fact(num-1)\n",
        "num=5\n",
        "result=fact(num)\n",
        "print(result)"
      ],
      "metadata": {
        "colab": {
          "base_uri": "https://localhost:8080/"
        },
        "id": "eAFMcZKmWmri",
        "outputId": "3e43ac04-b120-4f48-d7e1-8ce2566f76bf"
      },
      "execution_count": 45,
      "outputs": [
        {
          "output_type": "stream",
          "name": "stdout",
          "text": [
            "120\n"
          ]
        }
      ]
    },
    {
      "cell_type": "code",
      "source": [
        "def sum(num):\n",
        "  if num == 0 :\n",
        "    return num\n",
        "  else:\n",
        "      return num+sum(num-1)\n",
        "print(\"sum of N natural number is :\",sum(10))"
      ],
      "metadata": {
        "colab": {
          "base_uri": "https://localhost:8080/"
        },
        "id": "ehO3j6ydbyp8",
        "outputId": "ec29c6e4-da8c-4749-fedc-498744a4993b"
      },
      "execution_count": 57,
      "outputs": [
        {
          "output_type": "stream",
          "name": "stdout",
          "text": [
            "sum of N natural number is : 55\n"
          ]
        }
      ]
    },
    {
      "cell_type": "code",
      "source": [
        "# fibonacci series / number using function recursion\n",
        "\n",
        "def fibo(num) :\n",
        "  if num <= 1 :\n",
        "    return num\n",
        "  else :\n",
        "    return fibo(num - 1) + fibo(num - 2)\n",
        "\n",
        "for i in range(11) :\n",
        "  print(fibo(i),end=\" \")"
      ],
      "metadata": {
        "colab": {
          "base_uri": "https://localhost:8080/"
        },
        "id": "E6Uu6Y07cyUl",
        "outputId": "8153f553-3e80-4b47-9b02-52536a16377b"
      },
      "execution_count": 58,
      "outputs": [
        {
          "output_type": "stream",
          "name": "stdout",
          "text": [
            "0 1 1 2 3 5 8 13 21 34 55 "
          ]
        }
      ]
    },
    {
      "cell_type": "code",
      "source": [
        "Name = \"vasu\"\n",
        "print(Name[:4])"
      ],
      "metadata": {
        "colab": {
          "base_uri": "https://localhost:8080/"
        },
        "id": "nL7oOlq0hLiF",
        "outputId": "aaf0aecc-4684-43e8-b358-89ca13f13217"
      },
      "execution_count": 59,
      "outputs": [
        {
          "output_type": "stream",
          "name": "stdout",
          "text": [
            "vasu\n"
          ]
        }
      ]
    },
    {
      "cell_type": "code",
      "source": [
        "class flower:\n",
        "  colour=\"pink\"\n",
        "  price=25\n",
        "  smell=\"nice\"\n",
        "  shape=\"circle\"\n",
        "  def decoration(self):\n",
        "    print(\"gift  \")\n",
        "rose=flower()\n",
        "print(\"flower colour is\",rose.colour)\n",
        "print(\"rose price is\",rose.price)\n",
        "print(\"rose smell is\",rose.smell)\n",
        "print(\"rose shape is\",rose.shape)\n",
        "\n",
        "obj = flower()\n",
        "obj.decoration()\n"
      ],
      "metadata": {
        "colab": {
          "base_uri": "https://localhost:8080/"
        },
        "id": "dTApBVBNqWJG",
        "outputId": "f7992963-0a6a-44b5-ee98-a416bedf14ce"
      },
      "execution_count": 77,
      "outputs": [
        {
          "output_type": "stream",
          "name": "stdout",
          "text": [
            "flower colour is pink\n",
            "rose price is 25\n",
            "rose smell is nice\n",
            "rose shape is circle\n",
            "gift \n"
          ]
        }
      ]
    },
    {
      "cell_type": "code",
      "source": [
        "class fan:\n",
        "  colour=\"black\"\n",
        "  price=2500\n",
        "  warrenty=\"2 years\"\n",
        "  c_name=\"Sumit\"\n",
        "  def start(self):\n",
        "    print(\"when click on on butten button it'll start \")\n",
        "  def speed(self):\n",
        "    print (\"5 speed is there\")\n",
        "  def stop(self):\n",
        "    print(\"when click on off  button it'll stop\")\n",
        "\n",
        "obj = fan()\n",
        "print (obj.c_name + \" fan colour is \" + obj.colour)\n",
        "print (obj.c_name + \" fan price is \" + str(obj.price))\n",
        "print (obj.c_name + \" fan warrenty is \" + obj.warrenty)\n",
        "obj.stop()\n",
        "obj.start()\n",
        "obj.speed()"
      ],
      "metadata": {
        "colab": {
          "base_uri": "https://localhost:8080/"
        },
        "id": "L9f7gZKZyI-g",
        "outputId": "143a0436-ec36-44ff-99d1-5cd930e935dd"
      },
      "execution_count": 85,
      "outputs": [
        {
          "output_type": "stream",
          "name": "stdout",
          "text": [
            "Sumit fan colour is black\n",
            "Sumit fan price is 2500\n",
            "Sumit fan warrenty is 2 years\n",
            "when click on off  button it'll stop\n",
            "when click on on butten button it'll start \n",
            "5 speed is there\n"
          ]
        }
      ]
    },
    {
      "cell_type": "code",
      "source": [
        "def fun(name) :\n",
        "  print(\"my name is a\",name)\n",
        "fun(\"sumit\")"
      ],
      "metadata": {
        "colab": {
          "base_uri": "https://localhost:8080/"
        },
        "id": "CzGzf3991FTj",
        "outputId": "5127e078-1b9d-46ea-be6c-8ac48a9e95ef"
      },
      "execution_count": 87,
      "outputs": [
        {
          "output_type": "stream",
          "name": "stdout",
          "text": [
            "my name is a sumit\n"
          ]
        }
      ]
    },
    {
      "cell_type": "code",
      "source": [
        "# banking example\n",
        "\n",
        "class bank :\n",
        "  def __init__(self,balance) :\n",
        "    self.balance = balance\n",
        "\n",
        "  def deposit(self,amount) :\n",
        "     self.balance += amount\n",
        "\n",
        "  def withdrow(self,amount):\n",
        "      if amount <= self.balance :\n",
        "         self.balance -= amount\n",
        "         print(\"transaction successfully\",amount)\n",
        "      else:\n",
        "         print(\"insufficient balance\")\n",
        "\n",
        "  def re_balance(self) :\n",
        "      return self.balance\n",
        "\n",
        "obj = bank(1000)\n",
        "print(obj.balance)\n",
        "obj.deposit(500)\n",
        "print(obj.balance)\n",
        "obj.withdrow(700)\n",
        "print(obj.re_balance())\n",
        "obj.deposit(1000)\n",
        "print(\"current total balance is \",obj.re_balance())\n",
        "obj.withdrow(2000)\n",
        "print(\"current total balance is \",obj.re_balance())\n",
        "obj.withdrow(1500)\n",
        "print(\"current total balance is \",obj.re_balance())\n",
        "obj.deposit(500)\n",
        "print(\"current total balance is \",obj.balance)\n"
      ],
      "metadata": {
        "colab": {
          "base_uri": "https://localhost:8080/"
        },
        "id": "rY_hqcjtF9tR",
        "outputId": "f2c75e7f-c425-4ff8-aa45-6293dd21d4aa"
      },
      "execution_count": 109,
      "outputs": [
        {
          "output_type": "stream",
          "name": "stdout",
          "text": [
            "1000\n",
            "1500\n",
            "transaction successfully 700\n",
            "800\n",
            "current total balance is  1800\n",
            "insufficient balance\n",
            "current total balance is  1800\n",
            "transaction successfully 1500\n",
            "current total balance is  300\n",
            "current total balance is  800\n"
          ]
        }
      ]
    },
    {
      "cell_type": "code",
      "source": [
        "# Encapsulation Example\n",
        "class student :\n",
        "  def __init__(self,name,marks,place):\n",
        "    self._name = name\n",
        "    self._marks = marks\n",
        "    self.place = place\n",
        "  def set_method(self,name,marks):\n",
        "    self.name = name       #Pravet variable\n",
        "    self.marks = marks     #public variable\n",
        "\n",
        "  def get_name(self):\n",
        "    return self._name\n",
        "\n",
        "  def get_marks(self):\n",
        "    return self._marks\n",
        "\n",
        "obj = student(\"Sumit\",85,\"chikodi\")\n",
        "print(obj.get_name())\n",
        "print(obj.get_marks())\n",
        "print(obj.place)"
      ],
      "metadata": {
        "colab": {
          "base_uri": "https://localhost:8080/"
        },
        "id": "76R5immIVJA9",
        "outputId": "d5c4d51d-9480-406b-f158-71bcc48d4cbe"
      },
      "execution_count": 123,
      "outputs": [
        {
          "output_type": "stream",
          "name": "stdout",
          "text": [
            "Sumit\n",
            "85\n",
            "chikodi\n"
          ]
        }
      ]
    },
    {
      "cell_type": "code",
      "source": [
        "# 1)singal inheritance\n",
        "\n",
        "class parent :\n",
        "  def work (self) :\n",
        "    print(\"my parents are doing formig\")\n",
        "\n",
        "class children (parent) :\n",
        "  def study(self) :\n",
        "    print(\"I'm studying BCA in bk college\")\n",
        "\n",
        "ch = children()\n",
        "ch.work()\n",
        "ch.study()\n"
      ],
      "metadata": {
        "colab": {
          "base_uri": "https://localhost:8080/"
        },
        "id": "jwkvZiSKbxKJ",
        "outputId": "1be044e1-5852-43c6-82fb-7e1fd271a115"
      },
      "execution_count": 129,
      "outputs": [
        {
          "output_type": "stream",
          "name": "stdout",
          "text": [
            "my parents are doing formig\n",
            "I'm studying BCA in bk college\n"
          ]
        }
      ]
    },
    {
      "cell_type": "code",
      "source": [
        "# multiple Inheritance:\n",
        "class Father :\n",
        "    def Hi(self):\n",
        "        print(\"My father is my first hero\")\n",
        "class mother :\n",
        "    def Hello(self):\n",
        "        print(\"My father is my House wife\")\n",
        "class child(Father, mother):\n",
        "    def Bye(self):\n",
        "        print(\"I'm working as a Freelancer\")\n",
        "\n",
        "obj = child()\n",
        "obj.Hi()\n",
        "obj.Hello()\n",
        "obj.Bye()"
      ],
      "metadata": {
        "colab": {
          "base_uri": "https://localhost:8080/"
        },
        "id": "zTEeivzvdUCX",
        "outputId": "2a7b0278-5c86-437e-e961-fe9d5793e6de"
      },
      "execution_count": 130,
      "outputs": [
        {
          "output_type": "stream",
          "name": "stdout",
          "text": [
            "My father is my first hero\n",
            "My father is my House wife\n",
            "I'm working as a Freelancer\n"
          ]
        }
      ]
    },
    {
      "cell_type": "code",
      "source": [
        "# Multi Level Inheritance\n",
        "class Grand_parents :\n",
        "  def Formar(self):\n",
        "      print(\"✅✅✅✅✅\")\n",
        "\n",
        "class Parents(Grand_parents) :\n",
        "  def House(self):\n",
        "      print(\"😼😼😼😼\")\n",
        "\n",
        "class Child (Parents):\n",
        "  def Jolly(self):\n",
        "      print(\"🌱🌱🌱🌱\")\n",
        "\n",
        "Obj = Child()\n",
        "Obj.House()\n",
        "Obj.Jolly()\n",
        "Obj.Formar()"
      ],
      "metadata": {
        "colab": {
          "base_uri": "https://localhost:8080/"
        },
        "id": "ew2R_RxMini3",
        "outputId": "febd632f-a124-4305-937e-31431179f96f"
      },
      "execution_count": 132,
      "outputs": [
        {
          "output_type": "stream",
          "name": "stdout",
          "text": [
            "😼😼😼😼\n",
            "🌱🌱🌱🌱\n",
            "✅✅✅✅✅\n"
          ]
        }
      ]
    },
    {
      "cell_type": "code",
      "source": [
        "# Hirarchy Inheritance\n",
        "class Parents :\n",
        "  def Business(self):\n",
        "    print(\"My parents are doing business\")\n",
        "\n",
        "class Child1(Parents) :\n",
        "  def Study(self):\n",
        "    print(\"I'm Studying BCA \")\n",
        "\n",
        "class Child2(Parents) :\n",
        "  def Study(self):\n",
        "    print(\"I'm Studying PUC \")\n",
        "\n",
        "Ch = Child1()\n",
        "Ch.Business()\n",
        "Ch.Study()\n",
        "\n",
        "Obj = Child2()\n",
        "Obj.Business()\n",
        "Obj.Study()"
      ],
      "metadata": {
        "colab": {
          "base_uri": "https://localhost:8080/"
        },
        "id": "9LQj-38ckIBn",
        "outputId": "6d0d40d9-27e9-46b2-da2d-c6a072588287"
      },
      "execution_count": 133,
      "outputs": [
        {
          "output_type": "stream",
          "name": "stdout",
          "text": [
            "My parents are doing business\n",
            "I'm Studying BCA \n",
            "My parents are doing business\n",
            "I'm Studying PUC \n"
          ]
        }
      ]
    },
    {
      "cell_type": "code",
      "source": [
        " # Hybrid Inheritance\n",
        "\n",
        "class Grandfather:\n",
        "    def skill(self):\n",
        "        print(\"Grandfather has farming skills\")\n",
        "\n",
        "class Father(Grandfather):\n",
        "    def business(self):\n",
        "        print(\"Father has a business\")\n",
        "\n",
        "class Mother:\n",
        "    def cooking(self):\n",
        "        print(\"Mother is a great cook\")\n",
        "\n",
        "class Son(Father, Mother):\n",
        "    def study(self):\n",
        "        print(\"Son is studying\")\n",
        "\n",
        "class Daughter(Father):\n",
        "    def art(self):\n",
        "        print(\"Daughter is good at art\")\n",
        "\n",
        "# Example usage\n",
        "print(\"Son's traits:\")\n",
        "son = Son()\n",
        "son.skill()\n",
        "son.business()\n",
        "son.cooking()\n",
        "son.study()\n",
        "print(\"\\nDaughter's traits:\")\n",
        "daughter = Daughter()\n",
        "daughter.skill()\n",
        "daughter.business()\n",
        "daughter.art()\n"
      ],
      "metadata": {
        "colab": {
          "base_uri": "https://localhost:8080/"
        },
        "id": "s9K68ll4l77R",
        "outputId": "724c3f9a-90b9-4515-a7c4-19b6d5db4b11"
      },
      "execution_count": 135,
      "outputs": [
        {
          "output_type": "stream",
          "name": "stdout",
          "text": [
            "Son's traits:\n",
            "Grandfather has farming skills\n",
            "Father has a business\n",
            "Mother is a great cook\n",
            "Son is studying\n",
            "\n",
            "Daughter's traits:\n",
            "Grandfather has farming skills\n",
            "Father has a business\n",
            "Daughter is good at art\n"
          ]
        }
      ]
    }
  ]
}