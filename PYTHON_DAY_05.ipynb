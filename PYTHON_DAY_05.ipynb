{
  "nbformat": 4,
  "nbformat_minor": 0,
  "metadata": {
    "colab": {
      "provenance": []
    },
    "kernelspec": {
      "name": "python3",
      "display_name": "Python 3"
    },
    "language_info": {
      "name": "python"
    }
  },
  "cells": [
    {
      "cell_type": "code",
      "source": [
        "num = -5\n",
        "if num>0 :\n",
        "  if num ==0 :\n",
        "    print(\"zero value\")\n",
        "  else :\n",
        "    print(\"positive value\")\n",
        "else :\n",
        "  print(\"negative value\")"
      ],
      "metadata": {
        "colab": {
          "base_uri": "https://localhost:8080/"
        },
        "id": "3QQJ4lw95kpf",
        "outputId": "09e194c7-ab75-498a-a606-73e59109cc4c"
      },
      "execution_count": null,
      "outputs": [
        {
          "output_type": "stream",
          "name": "stdout",
          "text": [
            "negative value\n"
          ]
        }
      ]
    },
    {
      "cell_type": "code",
      "source": [
        "num =int(input(\"enter number value is :\"))\n",
        "if num>=0 :\n",
        "  if num ==0 :\n",
        "    print(\"zero value\")\n",
        "  else :\n",
        "    print(\"positive value\")\n",
        "else :\n",
        "  print(\"negative value\")"
      ],
      "metadata": {
        "colab": {
          "base_uri": "https://localhost:8080/"
        },
        "id": "-YgQqBWE6NEt",
        "outputId": "928c866f-a89e-4a81-93a1-fb68f194b6b3"
      },
      "execution_count": null,
      "outputs": [
        {
          "output_type": "stream",
          "name": "stdout",
          "text": [
            "enter number value is :0\n",
            "zero value\n"
          ]
        }
      ]
    },
    {
      "cell_type": "markdown",
      "source": [],
      "metadata": {
        "id": "PSQw_ecg9me0"
      }
    },
    {
      "cell_type": "code",
      "source": [
        "# write a program arithamatic operator using match or switch statment\n",
        "\n",
        "x,y=10,20\n",
        "option=input(\"enter option :\")\n",
        "match option :\n",
        "  case \"+\":\n",
        "    print(\"sum of values\",x+y)\n",
        "  case \"-\":\n",
        "    print(\"subtraction of values\",x-y)\n",
        "  case \"*\":\n",
        "    print(\"multplication of values\",x*y)\n",
        "  case \"/\" :\n",
        "    print(\"division of values\",x/y)\n",
        "  case \"%\" :\n",
        "    print(\"modulus of values\",x%y)\n",
        "  case _:\n",
        "    print(\"invalid option\")\n",
        "  case \"!=\":\n",
        "    print(\"not equal option\")"
      ],
      "metadata": {
        "colab": {
          "base_uri": "https://localhost:8080/",
          "height": 124
        },
        "id": "a2eHJ10w8Fv1",
        "outputId": "560ff17c-9465-40fa-9514-40ff971d2c85"
      },
      "execution_count": null,
      "outputs": [
        {
          "name": "stdout",
          "output_type": "stream",
          "text": [
            "enter option :!=\n"
          ]
        },
        {
          "output_type": "error",
          "ename": "SyntaxError",
          "evalue": "wildcard makes remaining patterns unreachable (ipython-input-3187860175.py, line 16)",
          "traceback": [
            "\u001b[0;36m  File \u001b[0;32m\"/tmp/ipython-input-3187860175.py\"\u001b[0;36m, line \u001b[0;32m16\u001b[0m\n\u001b[0;31m    case _:\u001b[0m\n\u001b[0m         ^\u001b[0m\n\u001b[0;31mSyntaxError\u001b[0m\u001b[0;31m:\u001b[0m wildcard makes remaining patterns unreachable\n"
          ]
        }
      ]
    },
    {
      "cell_type": "code",
      "source": [
        "option=int(input(\"enter  your choice option :\"))\n",
        "match option :\n",
        "  case 1:\n",
        "    print(\"monday\")\n",
        "  case 2:\n",
        "    print(\"tuesday\")\n",
        "  case 3:\n",
        "    print(\"wednesday\")\n",
        "  case 4:\n",
        "    print(\"thursday\")\n",
        "  case 5:\n",
        "    print(\"friday\")\n",
        "  case 6:\n",
        "    print(\"saturday\")\n",
        "  case 7:\n",
        "    print(\"sunday\")\n",
        "\n"
      ],
      "metadata": {
        "colab": {
          "base_uri": "https://localhost:8080/"
        },
        "id": "SdlyMPKhDLjt",
        "outputId": "bd690b52-42ee-4c73-e796-e3911e8d44ef"
      },
      "execution_count": null,
      "outputs": [
        {
          "output_type": "stream",
          "name": "stdout",
          "text": [
            "enter  your choice option :5\n",
            "friday\n"
          ]
        }
      ]
    },
    {
      "cell_type": "code",
      "source": [
        "option=int(input(\"enter  your choice option :\"))\n",
        "match option :\n",
        "  case 1:\n",
        "    print(\"jan\")\n",
        "  case 2:\n",
        "    print(\"feb\")\n",
        "  case 3:\n",
        "    print(\"mar\")\n",
        "  case 4:\n",
        "    print(\"apr\")\n",
        "  case 5:\n",
        "    print(\"may\")\n",
        "  case 6:\n",
        "    print(\"jun\")\n",
        "  case 7:\n",
        "    print(\"jul\")\n",
        "  case 8:\n",
        "    print(\"aug\")\n",
        "  case 9:\n",
        "    print(\"sep\")\n",
        "  case 10:\n",
        "    print(\"oct\")\n",
        "  case 11:\n",
        "    print(\"nov\")\n",
        "  case 12:\n",
        "    print(\"dec\")\n"
      ],
      "metadata": {
        "colab": {
          "base_uri": "https://localhost:8080/"
        },
        "id": "t6D-yUmsGOyl",
        "outputId": "195c813c-f6bc-4094-92a1-1ea4cf83b822"
      },
      "execution_count": null,
      "outputs": [
        {
          "output_type": "stream",
          "name": "stdout",
          "text": [
            "enter  your choice option :5\n",
            "may\n"
          ]
        }
      ]
    },
    {
      "cell_type": "code",
      "source": [
        "num=1\n",
        "while num<=60 :\n",
        "  print(num,end=\" \")\n",
        "  num +=1\n"
      ],
      "metadata": {
        "colab": {
          "base_uri": "https://localhost:8080/"
        },
        "id": "uZDbmh7gKWDk",
        "outputId": "797c582f-1c28-4608-ef38-f255c98737ed"
      },
      "execution_count": null,
      "outputs": [
        {
          "output_type": "stream",
          "name": "stdout",
          "text": [
            "1 2 3 4 5 6 7 8 9 10 11 12 13 14 15 16 17 18 19 20 21 22 23 24 25 26 27 28 29 30 31 32 33 34 35 36 37 38 39 40 41 42 43 44 45 46 47 48 49 50 51 52 53 54 55 56 57 58 59 60 "
          ]
        }
      ]
    },
    {
      "cell_type": "code",
      "source": [
        "num=5\n",
        "i=1\n",
        "while i<=10:\n",
        "  print(\"5*\",i,\"=\",num*i)\n",
        "  i=i+1"
      ],
      "metadata": {
        "colab": {
          "base_uri": "https://localhost:8080/"
        },
        "id": "w2UaI8J_LYHt",
        "outputId": "325eb30d-6601-4775-f0d5-8b743046bc09"
      },
      "execution_count": null,
      "outputs": [
        {
          "output_type": "stream",
          "name": "stdout",
          "text": [
            "5* 1 = 5\n",
            "5* 2 = 10\n",
            "5* 3 = 15\n",
            "5* 4 = 20\n",
            "5* 5 = 25\n",
            "5* 6 = 30\n",
            "5* 7 = 35\n",
            "5* 8 = 40\n",
            "5* 9 = 45\n",
            "5* 10 = 50\n"
          ]
        }
      ]
    },
    {
      "cell_type": "code",
      "source": [
        "num=0\n",
        "rem=0\n",
        "sum=0\n",
        "temp=num\n",
        "while num>0:\n",
        "  rem=num%10\n",
        "  sum=sum+rem*rem*rem\n",
        "  num=num//10\n",
        "if temp==sum:\n",
        "  print(\"armstrong number\")\n",
        "else :\n",
        "  print(\"not armstrong number\")"
      ],
      "metadata": {
        "colab": {
          "base_uri": "https://localhost:8080/"
        },
        "id": "fIIvzDwUY2kc",
        "outputId": "7ea2a5f3-9eb2-409f-9040-524a44bd67a2"
      },
      "execution_count": null,
      "outputs": [
        {
          "output_type": "stream",
          "name": "stdout",
          "text": [
            "armstrong number\n"
          ]
        }
      ]
    },
    {
      "cell_type": "code",
      "source": [
        "a,b,c,d,e=5,4,3,2,1\n",
        "print(a,b,c,d,e)\n"
      ],
      "metadata": {
        "colab": {
          "base_uri": "https://localhost:8080/"
        },
        "id": "nLQReHJwaPsf",
        "outputId": "aed14ddd-7336-466b-e8df-a28ed64195b5"
      },
      "execution_count": null,
      "outputs": [
        {
          "output_type": "stream",
          "name": "stdout",
          "text": [
            "5 4 3 2 1\n"
          ]
        }
      ]
    },
    {
      "cell_type": "code",
      "source": [
        "num = 12321\n",
        "rem = 0\n",
        "add = 0\n",
        "temp = num\n",
        "while num>0:\n",
        "  rem = num %  10\n",
        "  rev = rev*10+rem\n",
        "  num = num//10\n",
        "if temp == rev:\n",
        "  print(\"palindrome number\")\n",
        "else :\n",
        "  print(\"not palindrome number\")"
      ],
      "metadata": {
        "colab": {
          "base_uri": "https://localhost:8080/",
          "height": 211
        },
        "id": "M4kmJd1Wa1Yr",
        "outputId": "6e451583-cd46-49e5-d9de-71420109835f"
      },
      "execution_count": null,
      "outputs": [
        {
          "output_type": "error",
          "ename": "NameError",
          "evalue": "name 'rev' is not defined",
          "traceback": [
            "\u001b[0;31m---------------------------------------------------------------------------\u001b[0m",
            "\u001b[0;31mNameError\u001b[0m                                 Traceback (most recent call last)",
            "\u001b[0;32m/tmp/ipython-input-1877622063.py\u001b[0m in \u001b[0;36m<cell line: 0>\u001b[0;34m()\u001b[0m\n\u001b[1;32m      5\u001b[0m \u001b[0;32mwhile\u001b[0m \u001b[0mnum\u001b[0m\u001b[0;34m>\u001b[0m\u001b[0;36m0\u001b[0m\u001b[0;34m:\u001b[0m\u001b[0;34m\u001b[0m\u001b[0;34m\u001b[0m\u001b[0m\n\u001b[1;32m      6\u001b[0m   \u001b[0mrem\u001b[0m \u001b[0;34m=\u001b[0m \u001b[0mnum\u001b[0m \u001b[0;34m%\u001b[0m \u001b[0;36m10\u001b[0m\u001b[0;34m\u001b[0m\u001b[0;34m\u001b[0m\u001b[0m\n\u001b[0;32m----> 7\u001b[0;31m   \u001b[0mrev\u001b[0m \u001b[0;34m=\u001b[0m \u001b[0mrev\u001b[0m\u001b[0;34m*\u001b[0m\u001b[0;36m10\u001b[0m\u001b[0;34m+\u001b[0m\u001b[0mrem\u001b[0m\u001b[0;34m\u001b[0m\u001b[0;34m\u001b[0m\u001b[0m\n\u001b[0m\u001b[1;32m      8\u001b[0m   \u001b[0mnum\u001b[0m \u001b[0;34m=\u001b[0m \u001b[0mnum\u001b[0m\u001b[0;34m//\u001b[0m\u001b[0;36m10\u001b[0m\u001b[0;34m\u001b[0m\u001b[0;34m\u001b[0m\u001b[0m\n\u001b[1;32m      9\u001b[0m \u001b[0;32mif\u001b[0m \u001b[0mtemp\u001b[0m \u001b[0;34m==\u001b[0m \u001b[0mrev\u001b[0m\u001b[0;34m:\u001b[0m\u001b[0;34m\u001b[0m\u001b[0;34m\u001b[0m\u001b[0m\n",
            "\u001b[0;31mNameError\u001b[0m: name 'rev' is not defined"
          ]
        }
      ]
    },
    {
      "cell_type": "code",
      "source": [
        "i=1\n",
        "while i<=100:\n",
        "  print(i,end = \" \")\n",
        "  i+=2"
      ],
      "metadata": {
        "colab": {
          "base_uri": "https://localhost:8080/"
        },
        "id": "XDlZe8jodnZG",
        "outputId": "222ab38a-753e-4c84-d52b-e3d647a12a21"
      },
      "execution_count": null,
      "outputs": [
        {
          "output_type": "stream",
          "name": "stdout",
          "text": [
            "1 3 5 7 9 11 13 15 17 19 21 23 25 27 29 31 33 35 37 39 41 43 45 47 49 51 53 55 57 59 61 63 65 67 69 71 73 75 77 79 81 83 85 87 89 91 93 95 97 99 "
          ]
        }
      ]
    },
    {
      "cell_type": "code",
      "source": [
        "num = 10\n",
        "i = 0\n",
        "while num >= i :\n",
        "  print(num,end=\" \")\n",
        "  num-=1\n",
        ""
      ],
      "metadata": {
        "colab": {
          "base_uri": "https://localhost:8080/"
        },
        "id": "77h3mWO3hTUL",
        "outputId": "fde3feea-48e9-40f5-a1ec-3ba212a9d7f4"
      },
      "execution_count": 30,
      "outputs": [
        {
          "output_type": "stream",
          "name": "stdout",
          "text": [
            "10 9 8 7 6 5 4 3 2 1 0 "
          ]
        }
      ]
    },
    {
      "cell_type": "code",
      "source": [
        "i = 10\n",
        "while i <= 1280 :\n",
        "  print(i,end=\" \")\n",
        "  i*=2"
      ],
      "metadata": {
        "colab": {
          "base_uri": "https://localhost:8080/"
        },
        "id": "Phd6u8haiGrK",
        "outputId": "c08bf0e9-930d-4ab8-dd56-a310f7fe7964"
      },
      "execution_count": 31,
      "outputs": [
        {
          "output_type": "stream",
          "name": "stdout",
          "text": [
            "10 20 40 80 160 320 640 1280 "
          ]
        }
      ]
    },
    {
      "cell_type": "code",
      "source": [
        "colours = ['blue','red','pink','black']\n",
        "print(type(colours))\n",
        "\n",
        "for i in colours :\n",
        "  print(i)"
      ],
      "metadata": {
        "colab": {
          "base_uri": "https://localhost:8080/"
        },
        "id": "COo-CXUIzI2M",
        "outputId": "902c9d1f-e16e-4d09-c612-870e9147dc53"
      },
      "execution_count": 2,
      "outputs": [
        {
          "output_type": "stream",
          "name": "stdout",
          "text": [
            "<class 'list'>\n",
            "blue\n",
            "red\n",
            "pink\n",
            "black\n"
          ]
        }
      ]
    },
    {
      "cell_type": "code",
      "source": [
        "number = {1,2,3,4,5,6,6,7,8,8,9}\n",
        "for i in number :\n",
        "  print(i,end=\" \")"
      ],
      "metadata": {
        "colab": {
          "base_uri": "https://localhost:8080/"
        },
        "id": "TzsHK2Cg4n4l",
        "outputId": "eda5e113-b140-4375-960b-a0f4bf35d945"
      },
      "execution_count": 4,
      "outputs": [
        {
          "output_type": "stream",
          "name": "stdout",
          "text": [
            "1 2 3 4 5 6 7 8 9 "
          ]
        }
      ]
    },
    {
      "cell_type": "code",
      "source": [
        "name = \" kle bk bca college in chikodi\"\n",
        "rev = \"\"\n",
        "for i in name :\n",
        "  rev = i+rev\n",
        "print(rev)"
      ],
      "metadata": {
        "colab": {
          "base_uri": "https://localhost:8080/"
        },
        "id": "tWnTVR7D58aa",
        "outputId": "07f1a7f0-d7da-4356-ad8f-8f9efc3c2739"
      },
      "execution_count": 5,
      "outputs": [
        {
          "output_type": "stream",
          "name": "stdout",
          "text": [
            "idokihc ni egelloc acb kb elk \n"
          ]
        }
      ]
    },
    {
      "cell_type": "code",
      "source": [
        "for i in range(1,10+1):\n",
        "  print(i,end=\" \")"
      ],
      "metadata": {
        "colab": {
          "base_uri": "https://localhost:8080/"
        },
        "id": "RMA1yn7a572F",
        "outputId": "737f8388-77de-41a5-ea3f-912edf7e1a69"
      },
      "execution_count": 14,
      "outputs": [
        {
          "output_type": "stream",
          "name": "stdout",
          "text": [
            "1 2 3 4 5 6 7 8 9 10 "
          ]
        }
      ]
    },
    {
      "cell_type": "code",
      "source": [
        "for i in range(1,10+1,2):\n",
        "  print(i,end=\" \")"
      ],
      "metadata": {
        "colab": {
          "base_uri": "https://localhost:8080/"
        },
        "id": "S63-DwC1EvaU",
        "outputId": "20ef0add-ed4c-4d8b-fe50-df11a96a2c72"
      },
      "execution_count": 21,
      "outputs": [
        {
          "output_type": "stream",
          "name": "stdout",
          "text": [
            "1 3 5 7 9 "
          ]
        }
      ]
    },
    {
      "cell_type": "code",
      "source": [
        "sum = 0\n",
        "for i in range (1,11) :\n",
        "  sum+=i\n",
        "print(\"sum of n numbers is\",sum)"
      ],
      "metadata": {
        "colab": {
          "base_uri": "https://localhost:8080/"
        },
        "id": "OJqBmGx3Fq3d",
        "outputId": "b5a60ebe-4a35-48b4-879a-15dc3220ae88"
      },
      "execution_count": 24,
      "outputs": [
        {
          "output_type": "stream",
          "name": "stdout",
          "text": [
            "sum of n numbers is 55\n"
          ]
        }
      ]
    },
    {
      "cell_type": "code",
      "source": [
        "i=1\n",
        "num=4\n",
        "for i in range(1,11):\n",
        "   print(\"4*\",i,\"=\",num*i)\n"
      ],
      "metadata": {
        "colab": {
          "base_uri": "https://localhost:8080/"
        },
        "id": "m_7OA8xaHHsM",
        "outputId": "f8271168-9be5-4d23-9542-2a03a148cfd4"
      },
      "execution_count": 32,
      "outputs": [
        {
          "output_type": "stream",
          "name": "stdout",
          "text": [
            "4* 1 = 4\n",
            "4* 2 = 8\n",
            "4* 3 = 12\n",
            "4* 4 = 16\n",
            "4* 5 = 20\n",
            "4* 6 = 24\n",
            "4* 7 = 28\n",
            "4* 8 = 32\n",
            "4* 9 = 36\n",
            "4* 10 = 40\n"
          ]
        }
      ]
    },
    {
      "cell_type": "code",
      "source": [
        "for i in range(2,101+1,2):\n",
        "  print(i,end=\" \")"
      ],
      "metadata": {
        "colab": {
          "base_uri": "https://localhost:8080/"
        },
        "id": "cu9JHKwcJFQr",
        "outputId": "dcb72b62-57f8-4ac4-e5ac-372d144c0f5b"
      },
      "execution_count": 36,
      "outputs": [
        {
          "output_type": "stream",
          "name": "stdout",
          "text": [
            "2 4 6 8 10 12 14 16 18 20 22 24 26 28 30 32 34 36 38 40 42 44 46 48 50 52 54 56 58 60 62 64 66 68 70 72 74 76 78 80 82 84 86 88 90 92 94 96 98 100 "
          ]
        }
      ]
    },
    {
      "cell_type": "code",
      "source": [
        "fact = 1\n",
        "for i in range (1,6) :\n",
        "  fact=fact*i\n",
        "print(\"factorial numbers is\",fact)"
      ],
      "metadata": {
        "colab": {
          "base_uri": "https://localhost:8080/"
        },
        "id": "cNo7OrAeJ89R",
        "outputId": "3e0fe7b5-fa7b-4488-fc7c-219b164c6050"
      },
      "execution_count": 45,
      "outputs": [
        {
          "output_type": "stream",
          "name": "stdout",
          "text": [
            "factorial numbers is 120\n"
          ]
        }
      ]
    },
    {
      "cell_type": "code",
      "source": [
        "# fiboncacci series / number using for loop\n",
        "# 0 1 1 2 3 5 8 13 21 34 55 89 144\n",
        "\n",
        "num = 12\n",
        "a,b =0,1\n",
        "print(a,end=\" \")\n",
        "print(b,end=\" \")\n",
        "for i in range (2,num+1):\n",
        "  c = a+b\n",
        "  print(c,end=\" \")\n",
        "  a=b\n",
        "  b=c"
      ],
      "metadata": {
        "colab": {
          "base_uri": "https://localhost:8080/"
        },
        "id": "HDuiXijgMcNs",
        "outputId": "c7c5edeb-0e56-4f5a-854f-5714c72c8e07"
      },
      "execution_count": 47,
      "outputs": [
        {
          "output_type": "stream",
          "name": "stdout",
          "text": [
            "0 1 1 2 3 5 8 13 21 34 55 89 144 "
          ]
        }
      ]
    },
    {
      "cell_type": "code",
      "source": [],
      "metadata": {
        "id": "s5z_PQi9N2p8"
      },
      "execution_count": null,
      "outputs": []
    }
  ]
}