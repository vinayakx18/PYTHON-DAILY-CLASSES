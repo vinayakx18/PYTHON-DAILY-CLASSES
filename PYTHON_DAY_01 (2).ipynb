{
  "nbformat": 4,
  "nbformat_minor": 0,
  "metadata": {
    "colab": {
      "provenance": []
    },
    "kernelspec": {
      "name": "python3",
      "display_name": "Python 3"
    },
    "language_info": {
      "name": "python"
    }
  },
  "cells": [
    {
      "cell_type": "code",
      "execution_count": 9,
      "metadata": {
        "colab": {
          "base_uri": "https://localhost:8080/"
        },
        "id": "hx_e0cC5_UWO",
        "outputId": "f54b11d6-b8b9-4667-e16f-af66176bc6ec"
      },
      "outputs": [
        {
          "output_type": "stream",
          "name": "stdout",
          "text": [
            "10\n"
          ]
        }
      ],
      "source": [
        "print(5+5)"
      ]
    },
    {
      "cell_type": "code",
      "source": [
        "a=10\n",
        "print(a)"
      ],
      "metadata": {
        "colab": {
          "base_uri": "https://localhost:8080/"
        },
        "id": "tARASYGNbWWD",
        "outputId": "335877c9-492a-4bc2-d127-3fe6cee925d3"
      },
      "execution_count": 2,
      "outputs": [
        {
          "output_type": "stream",
          "name": "stdout",
          "text": [
            "10\n"
          ]
        }
      ]
    },
    {
      "cell_type": "code",
      "source": [
        "print(\"python programming language \\n\" * 5)"
      ],
      "metadata": {
        "colab": {
          "base_uri": "https://localhost:8080/"
        },
        "id": "ENF2Z6l8dAcX",
        "outputId": "72b8a0c3-f820-4988-d35d-3856099379e4"
      },
      "execution_count": 5,
      "outputs": [
        {
          "output_type": "stream",
          "name": "stdout",
          "text": [
            "python programming language \n",
            "python programming language \n",
            "python programming language \n",
            "python programming language \n",
            "python programming language \n",
            "\n"
          ]
        }
      ]
    },
    {
      "cell_type": "code",
      "source": [
        "print(\"i am sumit tanaji lagale ,\\n i have completed puc in sjpn trusts pu college nidasoshi ,\\n in the year of 2025 ,\\n i am from shirguppi\")"
      ],
      "metadata": {
        "colab": {
          "base_uri": "https://localhost:8080/"
        },
        "id": "0ZDSmBDgeBp2",
        "outputId": "910e677f-7404-47a4-a4b4-34b9d79a14a3"
      },
      "execution_count": 16,
      "outputs": [
        {
          "output_type": "stream",
          "name": "stdout",
          "text": [
            "i am sumit tanaji lagale ,\n",
            " i have completed puc in sjpn trusts pu college nidasoshi ,\n",
            " in the year of 2025 ,\n",
            " i am from shirguppi\n"
          ]
        }
      ]
    },
    {
      "cell_type": "code",
      "source": [
        "print(\"hello\"+\"word\")"
      ],
      "metadata": {
        "colab": {
          "base_uri": "https://localhost:8080/"
        },
        "id": "MXvPhIMggQuG",
        "outputId": "0aef2189-1121-416f-cc09-f3e3eabc8a00"
      },
      "execution_count": 21,
      "outputs": [
        {
          "output_type": "stream",
          "name": "stdout",
          "text": [
            "helloword\n"
          ]
        }
      ]
    },
    {
      "cell_type": "code",
      "source": [
        "print(\"good morning sir\\n\"*10)"
      ],
      "metadata": {
        "colab": {
          "base_uri": "https://localhost:8080/"
        },
        "id": "lz54lzz3gumN",
        "outputId": "443d77ab-fe33-4472-9784-207cac53408d"
      },
      "execution_count": 23,
      "outputs": [
        {
          "output_type": "stream",
          "name": "stdout",
          "text": [
            "good morning sir\n",
            "good morning sir\n",
            "good morning sir\n",
            "good morning sir\n",
            "good morning sir\n",
            "good morning sir\n",
            "good morning sir\n",
            "good morning sir\n",
            "good morning sir\n",
            "good morning sir\n",
            "\n"
          ]
        }
      ]
    },
    {
      "cell_type": "code",
      "source": [
        "print(\"HINDI =26 ,\\n  IC = 20 ,\\n  CP =30 ,\\n  DBMS =17 ,\\n ENGLISH =28 ,\\n  ACCOUNT =27 \\n \")"
      ],
      "metadata": {
        "id": "jK3Lyq87iWSM",
        "outputId": "4d49bd0f-83ae-404b-8150-d69bb2048b1e",
        "colab": {
          "base_uri": "https://localhost:8080/"
        }
      },
      "execution_count": 26,
      "outputs": [
        {
          "output_type": "stream",
          "name": "stdout",
          "text": [
            "HINDI =26 ,\n",
            "  IC = 20 ,\n",
            "  CP =30 ,\n",
            "  DBMS =17 ,\n",
            " ENGLISH =28 ,\n",
            "  ACCOUNT =27 \n",
            " \n"
          ]
        }
      ]
    },
    {
      "cell_type": "code",
      "source": [
        "x=10\n",
        "X=15\n",
        "print(\"X,X\")"
      ],
      "metadata": {
        "id": "nqnBx-hnqRCi",
        "outputId": "23b92cd2-dd1d-4cb6-bdd7-445748a47f62",
        "colab": {
          "base_uri": "https://localhost:8080/"
        }
      },
      "execution_count": 32,
      "outputs": [
        {
          "output_type": "stream",
          "name": "stdout",
          "text": [
            "X,X\n"
          ]
        }
      ]
    },
    {
      "cell_type": "code",
      "source": [
        "yes = True\n",
        "print(yes)"
      ],
      "metadata": {
        "id": "0GfSMXD8rNhr",
        "outputId": "c64113ab-72ed-4c72-dd09-234745effcc0",
        "colab": {
          "base_uri": "https://localhost:8080/"
        }
      },
      "execution_count": 36,
      "outputs": [
        {
          "output_type": "stream",
          "name": "stdout",
          "text": [
            "True\n"
          ]
        }
      ]
    },
    {
      "cell_type": "code",
      "source": [
        "NA_12_ME = \"chikodi\"\n",
        "print(NA_12_ME)"
      ],
      "metadata": {
        "id": "y1RaPuefrZp0",
        "outputId": "65503278-88ad-440e-adf6-a03a924314b0",
        "colab": {
          "base_uri": "https://localhost:8080/"
        }
      },
      "execution_count": 37,
      "outputs": [
        {
          "output_type": "stream",
          "name": "stdout",
          "text": [
            "chikodi\n"
          ]
        }
      ]
    },
    {
      "cell_type": "code",
      "source": [
        "NAME=\"COLLEGE\"\n",
        "PER=67.34\n",
        "print(NAME,PER)"
      ],
      "metadata": {
        "id": "eQlf93P_sRwD",
        "outputId": "a2c38a96-5072-4145-8bea-320d77074b67",
        "colab": {
          "base_uri": "https://localhost:8080/"
        }
      },
      "execution_count": 39,
      "outputs": [
        {
          "output_type": "stream",
          "name": "stdout",
          "text": [
            "COLLEGE 67.34\n"
          ]
        }
      ]
    },
    {
      "cell_type": "code",
      "source": [
        "first=\"my name sumit\"\n",
        "secound=\"i am study in bk college chikode\"\n",
        "print (first,secound)"
      ],
      "metadata": {
        "id": "d7U-7Dc8t4nj",
        "outputId": "6d9ac16b-6d7a-4fe7-bb71-838dc8e16dd4",
        "colab": {
          "base_uri": "https://localhost:8080/"
        }
      },
      "execution_count": 46,
      "outputs": [
        {
          "output_type": "stream",
          "name": "stdout",
          "text": [
            "my name sumit i am study in bk college chikode\n"
          ]
        }
      ]
    },
    {
      "cell_type": "code",
      "source": [
        "name=\"sumit\"\n",
        "per=\"85.7\"\n",
        "year=\"2020\"\n",
        "print(\"i have comleted puc in \",name,\"pu college in the year of\",year,\"i got percentege\",per)"
      ],
      "metadata": {
        "id": "cvBjVv1ytsbj",
        "outputId": "d143432c-5774-4329-f386-d281cdb397da",
        "colab": {
          "base_uri": "https://localhost:8080/"
        }
      },
      "execution_count": 49,
      "outputs": [
        {
          "output_type": "stream",
          "name": "stdout",
          "text": [
            "i have comleted puc in  sumit pu college in the year of 2020 i got percentege 85.7\n"
          ]
        }
      ]
    },
    {
      "cell_type": "code",
      "source": [
        "test=\"good evening\"\n",
        "adress=\"i am from chikodi\"\n",
        "print(\"hello\",test,\"i am fine\",adress)"
      ],
      "metadata": {
        "id": "UbKVyvRA0uR6",
        "outputId": "842992d1-00e7-4c91-c8c0-5d721a2bd1f8",
        "colab": {
          "base_uri": "https://localhost:8080/"
        }
      },
      "execution_count": 53,
      "outputs": [
        {
          "output_type": "stream",
          "name": "stdout",
          "text": [
            "hello good evening i am fine i am from chikodi\n"
          ]
        }
      ]
    }
  ]
}