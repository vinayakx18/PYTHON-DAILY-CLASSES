{
  "nbformat": 4,
  "nbformat_minor": 0,
  "metadata": {
    "colab": {
      "provenance": []
    },
    "kernelspec": {
      "name": "python3",
      "display_name": "Python 3"
    },
    "language_info": {
      "name": "python"
    }
  },
  "cells": [
    {
      "cell_type": "code",
      "execution_count": null,
      "metadata": {
        "colab": {
          "base_uri": "https://localhost:8080/"
        },
        "id": "aOZFqJxiGQd2",
        "outputId": "c80bbcb8-9948-4983-ac30-f4f7f85e066e"
      },
      "outputs": [
        {
          "output_type": "stream",
          "name": "stdout",
          "text": [
            "['laptop', 39000, 'window', 'lenovo', 'bengaluru', 'laotop', 39000, 'mac', 'lenovo', 'chikodi']\n",
            "2\n"
          ]
        }
      ],
      "source": [
        "Example=[\"laptop\",39000,\"window\",\"lenovo\",\"bengaluru\",\"laotop\",39000,\"mac\",\"lenovo\",\"chikodi\"]\n",
        "print(Example)\n",
        "print(Example.count(\"lenovo\"))\n"
      ]
    },
    {
      "cell_type": "code",
      "source": [
        "A=10\n",
        "B=20\n",
        "print(A+B)"
      ],
      "metadata": {
        "colab": {
          "base_uri": "https://localhost:8080/"
        },
        "id": "zrcgWBEkJHuy",
        "outputId": "333c3308-9773-48db-9643-05e9901faa7a"
      },
      "execution_count": null,
      "outputs": [
        {
          "output_type": "stream",
          "name": "stdout",
          "text": [
            "30\n"
          ]
        }
      ]
    },
    {
      "cell_type": "code",
      "source": [
        "# Run time program\n",
        "\n",
        "X=int(input(\"Enter the value of X\"))\n",
        "Y=int(input(\"Enter the value of Y\"))\n",
        "print(\"Addition of \",X,\"and\",Y,\"value is =\",X+Y)"
      ],
      "metadata": {
        "colab": {
          "base_uri": "https://localhost:8080/"
        },
        "id": "7F5WwTBVJeFi",
        "outputId": "3f4ada86-25cf-4f3b-d237-6d9fdbe01036"
      },
      "execution_count": null,
      "outputs": [
        {
          "output_type": "stream",
          "name": "stdout",
          "text": [
            "Enter the value of X10\n",
            "Enter the value of Y20\n",
            "Addition of  10 and 20 value is = 30\n"
          ]
        }
      ]
    },
    {
      "cell_type": "code",
      "source": [
        "first=float(input(\"Enter  first value:\"))\n",
        "second=float(input(\"Enter  second value:\"))\n",
        "print(first*second)\n",
        "print(\"Addition of \",first,\"and\",second,\"value is =\",first+second)"
      ],
      "metadata": {
        "colab": {
          "base_uri": "https://localhost:8080/"
        },
        "id": "H9KaHLkVM-Vc",
        "outputId": "e6b4a523-8a2c-4e9b-b657-8be714f44e3b"
      },
      "execution_count": null,
      "outputs": [
        {
          "output_type": "stream",
          "name": "stdout",
          "text": [
            "Enter  first value:10\n",
            "Enter  second value:5\n",
            "50.0\n",
            "Addition of  10.0 and 5.0 value is = 15.0\n"
          ]
        }
      ]
    },
    {
      "cell_type": "code",
      "source": [
        "first_name=input"
      ],
      "metadata": {
        "id": "hwjBkgW-OCzs"
      },
      "execution_count": null,
      "outputs": []
    },
    {
      "cell_type": "code",
      "source": [
        "x=10\n",
        "print(x)\n",
        "x-=2\n",
        "print(x)\n",
        "x*=5\n",
        "print(x)\n",
        "x//=3\n",
        "print(x)\n",
        "x**=2\n",
        "print(x)\n",
        "x%=4\n",
        "print(x)\n",
        "x+=9\n",
        "print(x)\n",
        "x/=3\n",
        "print(x)"
      ],
      "metadata": {
        "colab": {
          "base_uri": "https://localhost:8080/"
        },
        "id": "iggpQM-u0Mko",
        "outputId": "3094d83c-0ae2-4c0b-a3d3-487007f961c2"
      },
      "execution_count": null,
      "outputs": [
        {
          "output_type": "stream",
          "name": "stdout",
          "text": [
            "10\n",
            "8\n",
            "40\n",
            "13\n",
            "169\n",
            "1\n",
            "10\n",
            "3.3333333333333335\n"
          ]
        }
      ]
    },
    {
      "cell_type": "code",
      "source": [
        "num=9\n",
        "if num<10:\n",
        "  print(\"10 is a greater than 9 \")"
      ],
      "metadata": {
        "colab": {
          "base_uri": "https://localhost:8080/"
        },
        "id": "LGHfso4t40PZ",
        "outputId": "b799e525-58ab-4052-b41c-0b0d78cdfa9c"
      },
      "execution_count": null,
      "outputs": [
        {
          "output_type": "stream",
          "name": "stdout",
          "text": [
            "10 is a greater than 9 \n"
          ]
        }
      ]
    },
    {
      "cell_type": "code",
      "source": [
        "user_id=\"20MCA103\"\n",
        "password=1234\n",
        "if user_id==\"20MCA102\" and password==1234:\n",
        "  print(\"login successfully\")"
      ],
      "metadata": {
        "id": "K6qldWuH7hN8"
      },
      "execution_count": null,
      "outputs": []
    },
    {
      "cell_type": "code",
      "source": [
        "Ex= 59\n",
        "if Ex == 58:\n",
        "  print(\"Are you understand\")"
      ],
      "metadata": {
        "id": "Lk3WDnlx7pFy"
      },
      "execution_count": 29,
      "outputs": []
    },
    {
      "cell_type": "code",
      "source": [
        "Name = \"Sumit\"\n",
        "if Name==\"Sumit\":\n",
        "    print(\"my name is Sumit\")"
      ],
      "metadata": {
        "colab": {
          "base_uri": "https://localhost:8080/"
        },
        "id": "pQNp6GQ795At",
        "outputId": "2ceacaf0-e295-4bec-b842-88df011217cc"
      },
      "execution_count": 30,
      "outputs": [
        {
          "output_type": "stream",
          "name": "stdout",
          "text": [
            "my name is Sumit\n"
          ]
        }
      ]
    },
    {
      "cell_type": "code",
      "source": [
        "num=int(input(\"Enter a number value\"))\n",
        "if num > 0:\n",
        "  print(\"positive number\")\n",
        "else :\n",
        "  print(\"negative number\")"
      ],
      "metadata": {
        "colab": {
          "base_uri": "https://localhost:8080/"
        },
        "id": "14Z5eo_Z-Rh1",
        "outputId": "1f9b1493-7b3b-4ba8-94a0-b94317309933"
      },
      "execution_count": 33,
      "outputs": [
        {
          "output_type": "stream",
          "name": "stdout",
          "text": [
            "Enter a number value99\n",
            "positive number:\n"
          ]
        }
      ]
    },
    {
      "cell_type": "code",
      "source": [
        "num=int(input(\"Enter a number value\"))\n",
        "if num%2==0:\n",
        "  print(\"even number\")\n",
        "else :\n",
        "  print(\"odd number\")"
      ],
      "metadata": {
        "colab": {
          "base_uri": "https://localhost:8080/"
        },
        "id": "A8bnaxPb_5eB",
        "outputId": "f8fbe7c2-cd82-42ba-e11b-da4784580b7f"
      },
      "execution_count": 46,
      "outputs": [
        {
          "output_type": "stream",
          "name": "stdout",
          "text": [
            "Enter a number value45\n",
            "odd number\n"
          ]
        }
      ]
    },
    {
      "cell_type": "code",
      "source": [
        "num=int(input(\"Enter a number value\"))\n",
        "if num%4==0:\n",
        "  print(\"leap year\")\n",
        "else :\n",
        "  print(\"not leap year\")"
      ],
      "metadata": {
        "colab": {
          "base_uri": "https://localhost:8080/"
        },
        "id": "B-m0HF4FC5gs",
        "outputId": "31530d3f-3625-47d8-ab62-528c32a87d10"
      },
      "execution_count": 55,
      "outputs": [
        {
          "output_type": "stream",
          "name": "stdout",
          "text": [
            "Enter a number value2025\n",
            "not leap year\n"
          ]
        }
      ]
    },
    {
      "cell_type": "code",
      "source": [
        "age=int(input(\"Enter a number value\"))\n",
        "if age>18:\n",
        "  print(\"eligible\")\n",
        "else :\n",
        "  print(\"not eligible\")"
      ],
      "metadata": {
        "colab": {
          "base_uri": "https://localhost:8080/"
        },
        "id": "vfifj-R6D55B",
        "outputId": "d5626738-b196-4573-e5bb-479663fa4172"
      },
      "execution_count": 58,
      "outputs": [
        {
          "output_type": "stream",
          "name": "stdout",
          "text": [
            "Enter a number value66\n",
            "eligible\n"
          ]
        }
      ]
    },
    {
      "cell_type": "code",
      "source": [
        "password=int(input(\"Enter a number value\"))\n",
        "if password==1234 :\n",
        "  print(\"login successful\")\n",
        "else :\n",
        "  print(\"incorrect possword\")"
      ],
      "metadata": {
        "colab": {
          "base_uri": "https://localhost:8080/"
        },
        "id": "JtEDT93jF12G",
        "outputId": "14888a41-753d-4a77-e3d5-daa78b313b8b"
      },
      "execution_count": 61,
      "outputs": [
        {
          "output_type": "stream",
          "name": "stdout",
          "text": [
            "Enter a number value1234\n",
            "login successful\n"
          ]
        }
      ]
    },
    {
      "cell_type": "code",
      "source": [
        "marks=int(input(\"Enter a marks value\"))\n",
        "if marks>=85:\n",
        "  print(\"distiction\")\n",
        "elif marks>=70:\n",
        " print(\"first class\")\n",
        "elif marks>=55:\n",
        " print(\"second class\")\n",
        "elif marks>=35:\n",
        " print(\"just pass\")\n",
        "elif marks<30:\n",
        "  print(\"#samadanakar bahuman\")\n",
        "else:\n",
        "  print(\"Fail better luck next time\")"
      ],
      "metadata": {
        "colab": {
          "base_uri": "https://localhost:8080/"
        },
        "id": "bL_HLGjqLY9P",
        "outputId": "da7304d2-3c27-4afd-b83f-f775086bce57"
      },
      "execution_count": 77,
      "outputs": [
        {
          "output_type": "stream",
          "name": "stdout",
          "text": [
            "Enter a marks value11\n",
            "#samadanakar bahuman\n"
          ]
        }
      ]
    },
    {
      "cell_type": "code",
      "source": [
        "signal=input(\"enter a signal\")\n",
        "if signal==\"red\":\n",
        "  print(\"stop\")\n",
        "elif signal==\"yellow\":\n",
        "  print(\"ready\")\n",
        "elif signal==\"green\":\n",
        "  print(\"go\")\n",
        "else:\n",
        "  print(\"invalid colour\")"
      ],
      "metadata": {
        "colab": {
          "base_uri": "https://localhost:8080/"
        },
        "id": "5CjqzTQMQOrw",
        "outputId": "8d5c529d-7a0a-4fa1-eb24-cca3e264605f"
      },
      "execution_count": 79,
      "outputs": [
        {
          "output_type": "stream",
          "name": "stdout",
          "text": [
            "enter a signalblack\n",
            "invalid colour\n"
          ]
        }
      ]
    }
  ]
}