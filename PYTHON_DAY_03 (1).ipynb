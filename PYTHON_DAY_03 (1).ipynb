{
  "nbformat": 4,
  "nbformat_minor": 0,
  "metadata": {
    "colab": {
      "provenance": []
    },
    "kernelspec": {
      "name": "python3",
      "display_name": "Python 3"
    },
    "language_info": {
      "name": "python"
    }
  },
  "cells": [
    {
      "cell_type": "code",
      "execution_count": null,
      "metadata": {
        "colab": {
          "base_uri": "https://localhost:8080/"
        },
        "id": "zNsFCn4kGLnJ",
        "outputId": "b4c2a63e-5ab8-445d-b0e0-d101dcafb2b5"
      },
      "outputs": [
        {
          "output_type": "stream",
          "name": "stdout",
          "text": [
            "{'reg_noumber': 201, 'Name': 'duke', 'model': 7.53, 'price': 200000, 'Year': 2022}\n",
            "5\n",
            "{'reg_noumber': 201, 'Name': 'duke', 'model': 7.53, 'price': 200000, 'Year': 2022, 'loan': '50000'}\n",
            "{'reg_noumber': 201, 'Name': 'duke', 'model': 7.53, 'price': 200000, 'Year': 2022, 'loan': '50000', 'place ': 'CKD'}\n",
            "{'reg_noumber': 201, 'Name': 'duke', 'model': 7.53, 'price': 200000, 'Year': 2022, 'loan': '50000', 'place ': 'CKD', 'colour': 'Block'}\n",
            "{'reg_noumber': 201, 'Name': 'duke', 'model': 7.53, 'price': 200000, 'Year': 2022, 'place ': 'CKD', 'colour': 'Block'}\n",
            "{'reg_noumber': 201, 'Name': 'duke', 'model': 7.53, 'price': 200000, 'Year': 2022, 'place ': 'CKD', 'colour': 'Block', 'Age': 26}\n"
          ]
        }
      ],
      "source": [
        "Dict={\"reg_noumber\":201,\"Name\":\"duke\",\"model\":7.53,\"price\":200000,\"Year\":2022}\n",
        "print(Dict)\n",
        "print(len(Dict))\n",
        "Dict[\"loan\"]=\"50000\"\n",
        "print(Dict)\n",
        "Dict[\"place \"]=\"CKD\"\n",
        "print(Dict)\n",
        "Dict[\"colour\"]=\"Block\"\n",
        "print(Dict)\n",
        "del Dict[\"loan\"]\n",
        "print(Dict)\n",
        "Dict[\"Age\"]=26\n",
        "print(Dict)\n"
      ]
    },
    {
      "cell_type": "code",
      "source": [
        "Example=(11,\"sumit\",3.12,False,22)\n",
        "print(Example)\n",
        "print(len(Example))\n",
        "print(type(Example))\n",
        "print(Example.count(11))\n",
        "print(Example[0:3])\n",
        "print(Example[4])\n",
        "print(Example[-1])\n",
        "print(Example[::-1])\n"
      ],
      "metadata": {
        "colab": {
          "base_uri": "https://localhost:8080/"
        },
        "id": "vu1kBTerGiNo",
        "outputId": "527dbf4a-2aca-4cf9-d7b8-332dabe465cc"
      },
      "execution_count": null,
      "outputs": [
        {
          "output_type": "stream",
          "name": "stdout",
          "text": [
            "(11, 'sumit', 3.12, False, 22)\n",
            "5\n",
            "<class 'tuple'>\n",
            "1\n",
            "(11, 'sumit', 3.12)\n",
            "22\n",
            "22\n",
            "(22, False, 3.12, 'sumit', 11)\n"
          ]
        }
      ]
    },
    {
      "cell_type": "code",
      "source": [
        "Number=(2,4,7,9,3,9,3,2)\n",
        "print(Number)\n",
        "Add=(2,4,5,7)\n",
        "print(Number+Add)\n",
        "print(Add*4)\n",
        "print(type[0:5])"
      ],
      "metadata": {
        "colab": {
          "base_uri": "https://localhost:8080/"
        },
        "id": "kdMbTuzQGnlX",
        "outputId": "2c2888f9-dccc-434a-f223-88528d48283e"
      },
      "execution_count": null,
      "outputs": [
        {
          "output_type": "stream",
          "name": "stdout",
          "text": [
            "(2, 4, 7, 9, 3, 9, 3, 2)\n",
            "(2, 4, 7, 9, 3, 9, 3, 2, 2, 4, 5, 7)\n",
            "(2, 4, 5, 7, 2, 4, 5, 7, 2, 4, 5, 7, 2, 4, 5, 7)\n",
            "type[slice(0, 5, None)]\n"
          ]
        }
      ]
    },
    {
      "cell_type": "code",
      "source": [
        "Example={1,1,2,3,4,5,6}\n",
        "print(Example)\n",
        "print(type(Example))\n",
        "print(len(Example))\n",
        "Example.add(10)\n",
        "print(Example)\n",
        "Example.add(\"sumit\")\n",
        "print(Example)\n",
        "print(type(Example))\n",
        "Example={1,2,2,3,4,4,5,6,7}\n",
        "print(Example)\n",
        "print(type(Example))\n",
        "print(len(Example))\n",
        "Example.add(\"BKC\")\n",
        "print(Example)\n",
        "Example.add(5.67)\n",
        "print(Example)\n",
        "Example.add(\"True\")\n",
        "print(Example)\n",
        "Example.remove(4)\n",
        "print(Example)\n",
        "print(Example.pop())\n",
        "print(Example)\n",
        "\n"
      ],
      "metadata": {
        "colab": {
          "base_uri": "https://localhost:8080/"
        },
        "id": "2Ou_tusuGscW",
        "outputId": "9a881af5-3191-4673-f5d6-66132ec564b0"
      },
      "execution_count": null,
      "outputs": [
        {
          "output_type": "stream",
          "name": "stdout",
          "text": [
            "{1, 2, 3, 4, 5, 6}\n",
            "<class 'set'>\n",
            "6\n",
            "{1, 2, 3, 4, 5, 6, 10}\n",
            "{1, 2, 3, 4, 5, 6, 10, 'sumit'}\n",
            "<class 'set'>\n",
            "{1, 2, 3, 4, 5, 6, 7}\n",
            "<class 'set'>\n",
            "7\n",
            "{'BKC', 1, 2, 3, 4, 5, 6, 7}\n",
            "{1, 2, 3, 4, 5, 6, 7, 5.67, 'BKC'}\n",
            "{1, 2, 3, 4, 5, 6, 7, 5.67, 'True', 'BKC'}\n",
            "{1, 2, 3, 5, 6, 7, 5.67, 'True', 'BKC'}\n",
            "1\n",
            "{2, 3, 5, 6, 7, 5.67, 'True', 'BKC'}\n"
          ]
        }
      ]
    },
    {
      "cell_type": "code",
      "source": [
        "first={1,2,3,4,4,2}\n",
        "second={3,5,4,6}\n",
        "print(first|second)\n",
        "print(first.union(second))\n",
        "print(first&second)\n",
        "print(first.intersection(second))\n",
        "print(first-second)\n",
        "print(first.difference(second))\n",
        "print(second-first)\n",
        "print(second.difference(first))"
      ],
      "metadata": {
        "colab": {
          "base_uri": "https://localhost:8080/"
        },
        "id": "WwdEmG95GyVO",
        "outputId": "1c902ef3-979d-4855-b84e-518c17091515"
      },
      "execution_count": null,
      "outputs": [
        {
          "output_type": "stream",
          "name": "stdout",
          "text": [
            "{1, 2, 3, 4, 5, 6}\n",
            "{1, 2, 3, 4, 5, 6}\n",
            "{3, 4}\n",
            "{3, 4}\n",
            "{1, 2}\n",
            "{1, 2}\n",
            "{5, 6}\n",
            "{5, 6}\n"
          ]
        }
      ]
    },
    {
      "cell_type": "code",
      "source": [
        "Dict={\"Roll_number\":201,\"Name\":\"Raichur\",\"CGP\":7.53,\"Course\":\"MCA\",\"Year\":2022}\n",
        "print(Dict)\n",
        "print(len(Dict))\n",
        "Dict[\"Gender\"]=\"Male\"\n",
        "print(Dict)\n",
        "Dict[\"College \"]=\"BKC\"\n",
        "print(Dict)\n",
        "Dict[\"College\"]=\"BK BCA\"\n",
        "print(Dict)\n",
        "del Dict[\"Gender\"]\n",
        "print(Dict)\n",
        "Dict[\"Gender\"]=\"Male\"\n",
        "print(Dict)\n",
        "print(Dict[\"College\"])\n",
        "Dict[\"Age\"]=26\n",
        "print(Dict)\n",
        "print(Dict[\"Age\"])\n",
        "Dict[\"Address\"]=\"shirguppi\"\n",
        "print(Dict)\n",
        "del Dict[\"Address\"]\n",
        "print(Dict)\n",
        "Dict.popitem()\n",
        "print(Dict)\n",
        "print(Dict.keys())\n",
        "print(Dict.values())"
      ],
      "metadata": {
        "colab": {
          "base_uri": "https://localhost:8080/"
        },
        "id": "Yp4wDe_WG2Pu",
        "outputId": "71568ce4-5e74-4897-be4c-edb21e820505"
      },
      "execution_count": 9,
      "outputs": [
        {
          "output_type": "stream",
          "name": "stdout",
          "text": [
            "{'Roll_number': 201, 'Name': 'Raichur', 'CGP': 7.53, 'Course': 'MCA', 'Year': 2022}\n",
            "5\n",
            "{'Roll_number': 201, 'Name': 'Raichur', 'CGP': 7.53, 'Course': 'MCA', 'Year': 2022, 'Gender': 'Male'}\n",
            "{'Roll_number': 201, 'Name': 'Raichur', 'CGP': 7.53, 'Course': 'MCA', 'Year': 2022, 'Gender': 'Male', 'College ': 'BKC'}\n",
            "{'Roll_number': 201, 'Name': 'Raichur', 'CGP': 7.53, 'Course': 'MCA', 'Year': 2022, 'Gender': 'Male', 'College ': 'BKC', 'College': 'BK BCA'}\n",
            "{'Roll_number': 201, 'Name': 'Raichur', 'CGP': 7.53, 'Course': 'MCA', 'Year': 2022, 'College ': 'BKC', 'College': 'BK BCA'}\n",
            "{'Roll_number': 201, 'Name': 'Raichur', 'CGP': 7.53, 'Course': 'MCA', 'Year': 2022, 'College ': 'BKC', 'College': 'BK BCA', 'Gender': 'Male'}\n",
            "BK BCA\n",
            "{'Roll_number': 201, 'Name': 'Raichur', 'CGP': 7.53, 'Course': 'MCA', 'Year': 2022, 'College ': 'BKC', 'College': 'BK BCA', 'Gender': 'Male', 'Age': 26}\n",
            "26\n",
            "{'Roll_number': 201, 'Name': 'Raichur', 'CGP': 7.53, 'Course': 'MCA', 'Year': 2022, 'College ': 'BKC', 'College': 'BK BCA', 'Gender': 'Male', 'Age': 26, 'Address': 'shirguppi'}\n",
            "{'Roll_number': 201, 'Name': 'Raichur', 'CGP': 7.53, 'Course': 'MCA', 'Year': 2022, 'College ': 'BKC', 'College': 'BK BCA', 'Gender': 'Male', 'Age': 26}\n",
            "{'Roll_number': 201, 'Name': 'Raichur', 'CGP': 7.53, 'Course': 'MCA', 'Year': 2022, 'College ': 'BKC', 'College': 'BK BCA', 'Gender': 'Male'}\n",
            "dict_keys(['Roll_number', 'Name', 'CGP', 'Course', 'Year', 'College ', 'College', 'Gender'])\n",
            "dict_values([201, 'Raichur', 7.53, 'MCA', 2022, 'BKC', 'BK BCA', 'Male'])\n"
          ]
        }
      ]
    },
    {
      "cell_type": "code",
      "source": [
        "Name={ \"Name\":\"Sumit\",\"name\":\"sumit\",\"F_name\":\"Sumit\",\"L_name\":\"Sumit\"}\n",
        "print(Name)\n"
      ],
      "metadata": {
        "colab": {
          "base_uri": "https://localhost:8080/"
        },
        "id": "pwNA58NILdfh",
        "outputId": "cf8acb79-1aa2-4a57-f651-c532758db2b7"
      },
      "execution_count": 10,
      "outputs": [
        {
          "output_type": "stream",
          "name": "stdout",
          "text": [
            "{'Name': 'Sumit', 'name': 'sumit', 'F_name': 'Sumit', 'L_name': 'Sumit'}\n"
          ]
        }
      ]
    },
    {
      "cell_type": "code",
      "source": [
        "a=10\n",
        "print(type(a))\n",
        "b=3\n",
        "print(type(b))\n",
        "print(type(a/b))\n",
        "\n"
      ],
      "metadata": {
        "colab": {
          "base_uri": "https://localhost:8080/"
        },
        "id": "_Y_ynTMneC6M",
        "outputId": "97f884c6-139e-4676-8741-89f5627c4977"
      },
      "execution_count": 12,
      "outputs": [
        {
          "output_type": "stream",
          "name": "stdout",
          "text": [
            "<class 'int'>\n",
            "<class 'int'>\n",
            "<class 'float'>\n"
          ]
        }
      ]
    },
    {
      "cell_type": "code",
      "source": [
        "a,b,c=10,20,a+b\n",
        "print(type(a))\n",
        "print(type(b))\n",
        "print(type(c))\n",
        "print(type(a/b))"
      ],
      "metadata": {
        "colab": {
          "base_uri": "https://localhost:8080/"
        },
        "id": "NNNTDel4fqAd",
        "outputId": "9d6e50f1-10fa-41ae-94ed-717649078f6f"
      },
      "execution_count": 11,
      "outputs": [
        {
          "output_type": "stream",
          "name": "stdout",
          "text": [
            "<class 'int'>\n",
            "<class 'int'>\n",
            "<class 'float'>\n",
            "<class 'float'>\n"
          ]
        }
      ]
    },
    {
      "cell_type": "code",
      "source": [
        "x,y=2.5,3.5\n",
        "print(type(x+y))"
      ],
      "metadata": {
        "colab": {
          "base_uri": "https://localhost:8080/"
        },
        "id": "6XZnVgCigGQb",
        "outputId": "9aa104f8-448b-43b9-a8fe-33e4d6793e9d"
      },
      "execution_count": 9,
      "outputs": [
        {
          "output_type": "stream",
          "name": "stdout",
          "text": [
            "<class 'float'>\n"
          ]
        }
      ]
    },
    {
      "cell_type": "code",
      "source": [
        "a,b,c=2.5,3.5,a+b\n",
        "print(type(a))\n",
        "print(type(b))\n",
        "print(type(c))"
      ],
      "metadata": {
        "colab": {
          "base_uri": "https://localhost:8080/"
        },
        "id": "4pDxqkmXgbGD",
        "outputId": "7b1e2bb1-45ce-4619-c3e6-1d7ee3fb02bb"
      },
      "execution_count": 10,
      "outputs": [
        {
          "output_type": "stream",
          "name": "stdout",
          "text": [
            "<class 'float'>\n",
            "<class 'float'>\n",
            "<class 'int'>\n"
          ]
        }
      ]
    },
    {
      "cell_type": "code",
      "source": [
        "i=20\n",
        "j=5.5\n",
        "k=i+j\n",
        "print(type(k))"
      ],
      "metadata": {
        "colab": {
          "base_uri": "https://localhost:8080/"
        },
        "id": "bDMHCq5jgzQb",
        "outputId": "01bcea85-5769-4fcc-ee2c-bb8d831c3c1c"
      },
      "execution_count": 15,
      "outputs": [
        {
          "output_type": "stream",
          "name": "stdout",
          "text": [
            "<class 'float'>\n"
          ]
        }
      ]
    },
    {
      "cell_type": "code",
      "source": [
        "a=49\n",
        "b=7\n",
        "print(type(a/b))"
      ],
      "metadata": {
        "colab": {
          "base_uri": "https://localhost:8080/"
        },
        "id": "cTPD5qFGhVNK",
        "outputId": "30ac1a4d-3f1e-4f0f-dff4-aa803150a0c8"
      },
      "execution_count": 16,
      "outputs": [
        {
          "output_type": "stream",
          "name": "stdout",
          "text": [
            "<class 'float'>\n"
          ]
        }
      ]
    },
    {
      "cell_type": "code",
      "source": [
        "i=True\n",
        "print(type(i))\n",
        "j=5\n",
        "print(type(j))\n",
        "print(type(i+j))"
      ],
      "metadata": {
        "colab": {
          "base_uri": "https://localhost:8080/"
        },
        "id": "GrfYK9cEhjI7",
        "outputId": "74d7d5f5-cbdb-45a6-ea22-003c57d4ff40"
      },
      "execution_count": 20,
      "outputs": [
        {
          "output_type": "stream",
          "name": "stdout",
          "text": [
            "<class 'bool'>\n",
            "<class 'int'>\n",
            "<class 'int'>\n"
          ]
        }
      ]
    },
    {
      "cell_type": "code",
      "source": [
        "m=2.9\n",
        "n=False\n",
        "o=m-n\n",
        "print(type(o))"
      ],
      "metadata": {
        "colab": {
          "base_uri": "https://localhost:8080/"
        },
        "id": "-Vfgi5W7itVk",
        "outputId": "290cb5d6-1c29-4cd4-febc-2506f9e7d824"
      },
      "execution_count": 22,
      "outputs": [
        {
          "output_type": "stream",
          "name": "stdout",
          "text": [
            "<class 'float'>\n"
          ]
        }
      ]
    },
    {
      "cell_type": "code",
      "source": [
        "p=True\n",
        "q=False\n",
        "r=p+q\n",
        "print(type(r))"
      ],
      "metadata": {
        "colab": {
          "base_uri": "https://localhost:8080/"
        },
        "id": "jUPmxFR4i468",
        "outputId": "c205aeba-0bb6-4705-ced2-cf450a288e26"
      },
      "execution_count": 25,
      "outputs": [
        {
          "output_type": "stream",
          "name": "stdout",
          "text": [
            "<class 'int'>\n"
          ]
        }
      ]
    },
    {
      "cell_type": "code",
      "source": [
        "s=2.9\n",
        "t=False\n",
        "print(type(s*t))"
      ],
      "metadata": {
        "colab": {
          "base_uri": "https://localhost:8080/"
        },
        "id": "rTwmxjtijWvU",
        "outputId": "65b58998-1dc2-4146-ea6d-edf3dba65bdf"
      },
      "execution_count": 27,
      "outputs": [
        {
          "output_type": "stream",
          "name": "stdout",
          "text": [
            "<class 'float'>\n"
          ]
        }
      ]
    },
    {
      "cell_type": "code",
      "source": [
        "num=3.12\n",
        "print(type(num))\n",
        "add=int(num)\n",
        "print(type(add))\n",
        "sub=float(num)\n",
        "print(type(sub))"
      ],
      "metadata": {
        "colab": {
          "base_uri": "https://localhost:8080/"
        },
        "id": "xMcAuVg3jtME",
        "outputId": "b03fac18-b2d0-4adf-ec8d-4179fae350e4"
      },
      "execution_count": 29,
      "outputs": [
        {
          "output_type": "stream",
          "name": "stdout",
          "text": [
            "<class 'float'>\n",
            "<class 'int'>\n",
            "<class 'float'>\n"
          ]
        }
      ]
    },
    {
      "cell_type": "code",
      "source": [
        "mul=float(add)\n",
        "print(type(mul-9))\n"
      ],
      "metadata": {
        "colab": {
          "base_uri": "https://localhost:8080/"
        },
        "id": "ZHBq7CsNmifP",
        "outputId": "452ad3d4-32cc-4b14-8baf-9b7f7a5a6447"
      },
      "execution_count": 34,
      "outputs": [
        {
          "output_type": "stream",
          "name": "stdout",
          "text": [
            "<class 'float'>\n"
          ]
        }
      ]
    },
    {
      "cell_type": "code",
      "source": [
        "num=\"101\"\n",
        "print(type(num))\n",
        "add=int(num)\n",
        "print(type(add))"
      ],
      "metadata": {
        "colab": {
          "base_uri": "https://localhost:8080/"
        },
        "id": "T2LAapnFnTHN",
        "outputId": "a4a9c5ba-9449-46c2-e1ea-2ba396f47206"
      },
      "execution_count": 35,
      "outputs": [
        {
          "output_type": "stream",
          "name": "stdout",
          "text": [
            "<class 'str'>\n",
            "<class 'int'>\n"
          ]
        }
      ]
    },
    {
      "cell_type": "code",
      "source": [
        "sub=False\n",
        "add=int(sub)\n",
        "print(type(add))"
      ],
      "metadata": {
        "colab": {
          "base_uri": "https://localhost:8080/"
        },
        "id": "ik1gY1IonU9G",
        "outputId": "ce1d2a47-0caa-4f9d-8ab6-9191ef997732"
      },
      "execution_count": 37,
      "outputs": [
        {
          "output_type": "stream",
          "name": "stdout",
          "text": [
            "<class 'int'>\n"
          ]
        }
      ]
    },
    {
      "cell_type": "code",
      "source": [
        "men=True\n",
        "print(type(men))\n",
        "add=int(men)\n",
        "print(type(add))\n",
        "sub=float(men)\n",
        "print(type(sub))"
      ],
      "metadata": {
        "colab": {
          "base_uri": "https://localhost:8080/"
        },
        "id": "69Ki5GPloC8m",
        "outputId": "dcfe5c33-07d2-4f76-dfa9-f852ccb33f7d"
      },
      "execution_count": 41,
      "outputs": [
        {
          "output_type": "stream",
          "name": "stdout",
          "text": [
            "<class 'bool'>\n",
            "<class 'int'>\n",
            "<class 'float'>\n"
          ]
        }
      ]
    },
    {
      "cell_type": "code",
      "source": [
        "men=20\n",
        "print(type(men))\n",
        "multi=bool(men)\n",
        "print(type(multi))"
      ],
      "metadata": {
        "colab": {
          "base_uri": "https://localhost:8080/"
        },
        "id": "tVPwyaohpNFG",
        "outputId": "ef3d7075-865b-4262-abd9-3db9a0fa3658"
      },
      "execution_count": 42,
      "outputs": [
        {
          "output_type": "stream",
          "name": "stdout",
          "text": [
            "<class 'int'>\n",
            "<class 'bool'>\n"
          ]
        }
      ]
    },
    {
      "cell_type": "code",
      "source": [
        "s=2.4\n",
        "print(type(s))\n",
        "\n",
        "print(type(str(s)))"
      ],
      "metadata": {
        "colab": {
          "base_uri": "https://localhost:8080/"
        },
        "id": "egZpPWzypv6m",
        "outputId": "3cbf31ad-5f9b-42e6-a280-462bd242199c"
      },
      "execution_count": 46,
      "outputs": [
        {
          "output_type": "stream",
          "name": "stdout",
          "text": [
            "<class 'float'>\n",
            "<class 'str'>\n"
          ]
        }
      ]
    },
    {
      "cell_type": "code",
      "source": [
        "AP=9.99\n",
        "print(type(AP))\n",
        "\n",
        "print(type(bool(AP)))"
      ],
      "metadata": {
        "colab": {
          "base_uri": "https://localhost:8080/"
        },
        "id": "_W65Q1BHqgyP",
        "outputId": "0452c9d5-5d63-4f67-f426-01fa3d1d7a22"
      },
      "execution_count": 47,
      "outputs": [
        {
          "output_type": "stream",
          "name": "stdout",
          "text": [
            "<class 'float'>\n",
            "<class 'bool'>\n"
          ]
        }
      ]
    },
    {
      "cell_type": "code",
      "source": [
        "AP=False\n",
        "print(type(AP))\n",
        "\n",
        "print(type(float(AP)))"
      ],
      "metadata": {
        "colab": {
          "base_uri": "https://localhost:8080/"
        },
        "id": "VaBrb-Jlqr3n",
        "outputId": "4dc94ae2-fafc-49fa-efb6-3da7654f09ae"
      },
      "execution_count": 48,
      "outputs": [
        {
          "output_type": "stream",
          "name": "stdout",
          "text": [
            "<class 'bool'>\n",
            "<class 'float'>\n"
          ]
        }
      ]
    },
    {
      "cell_type": "code",
      "source": [
        "a=False\n",
        "print(type(a))\n",
        "\n",
        "s=str(a)\n",
        "print(type(s))"
      ],
      "metadata": {
        "colab": {
          "base_uri": "https://localhost:8080/"
        },
        "id": "pssjnXPYrFtv",
        "outputId": "5239299a-ef52-4d40-9998-92ea1b88b82b"
      },
      "execution_count": 49,
      "outputs": [
        {
          "output_type": "stream",
          "name": "stdout",
          "text": [
            "<class 'bool'>\n",
            "<class 'str'>\n"
          ]
        }
      ]
    },
    {
      "cell_type": "code",
      "source": [
        "a=\"sumya\"\n",
        "print(type(a))\n",
        "print(type(list(a)))"
      ],
      "metadata": {
        "colab": {
          "base_uri": "https://localhost:8080/"
        },
        "id": "L95BLjEOvDlh",
        "outputId": "a638c937-b0dd-45ee-b612-d6629989a003"
      },
      "execution_count": 52,
      "outputs": [
        {
          "output_type": "stream",
          "name": "stdout",
          "text": [
            "<class 'str'>\n",
            "<class 'list'>\n"
          ]
        }
      ]
    },
    {
      "cell_type": "code",
      "source": [
        "a=(10,20)\n",
        "print(type(list(a)))"
      ],
      "metadata": {
        "colab": {
          "base_uri": "https://localhost:8080/"
        },
        "id": "fu1wgQycwAAb",
        "outputId": "c0f1cf4c-0444-4976-fdb0-d987978f9294"
      },
      "execution_count": 56,
      "outputs": [
        {
          "output_type": "stream",
          "name": "stdout",
          "text": [
            "<class 'list'>\n"
          ]
        }
      ]
    },
    {
      "cell_type": "code",
      "source": [
        "a={1,2,3,4,}\n",
        "print(type(list(a)))"
      ],
      "metadata": {
        "colab": {
          "base_uri": "https://localhost:8080/"
        },
        "id": "C2wRF_X7wWUY",
        "outputId": "cb6b3593-9b31-4458-edaa-5a8224e275cd"
      },
      "execution_count": 57,
      "outputs": [
        {
          "output_type": "stream",
          "name": "stdout",
          "text": [
            "<class 'list'>\n"
          ]
        }
      ]
    },
    {
      "cell_type": "code",
      "source": [
        "a={1,2,3,4,}\n",
        "print(type(list(a)))"
      ],
      "metadata": {
        "colab": {
          "base_uri": "https://localhost:8080/"
        },
        "id": "p6DhEPd0wyf2",
        "outputId": "c741b40b-a130-463f-c1d2-1f8f456e90d2"
      },
      "execution_count": 58,
      "outputs": [
        {
          "output_type": "stream",
          "name": "stdout",
          "text": [
            "<class 'list'>\n"
          ]
        }
      ]
    },
    {
      "cell_type": "code",
      "source": [
        "a=\"sumya\"\n",
        "print(type(tuple(a)))"
      ],
      "metadata": {
        "colab": {
          "base_uri": "https://localhost:8080/"
        },
        "id": "RtDEqaoqytQ-",
        "outputId": "f0effffe-8bf0-453d-cdcc-380135670227"
      },
      "execution_count": 59,
      "outputs": [
        {
          "output_type": "stream",
          "name": "stdout",
          "text": [
            "<class 'tuple'>\n"
          ]
        }
      ]
    },
    {
      "cell_type": "code",
      "source": [
        "a=[1,2,3,4]\n",
        "print(type(tuple(a)))"
      ],
      "metadata": {
        "colab": {
          "base_uri": "https://localhost:8080/"
        },
        "id": "8OIMuZgJzDan",
        "outputId": "b8e9c684-529b-4c55-bdc5-e3dfcc89fa71"
      },
      "execution_count": 60,
      "outputs": [
        {
          "output_type": "stream",
          "name": "stdout",
          "text": [
            "<class 'tuple'>\n"
          ]
        }
      ]
    },
    {
      "cell_type": "code",
      "source": [
        "a={1,2,3,4}\n"
      ],
      "metadata": {
        "id": "0J0ceTIHzPMg"
      },
      "execution_count": null,
      "outputs": []
    },
    {
      "cell_type": "code",
      "source": [
        "n4={(\"rool_no\",501),(\"section\",\"c\")}\n",
        "print(type(n4))"
      ],
      "metadata": {
        "colab": {
          "base_uri": "https://localhost:8080/"
        },
        "id": "AKZ5PkEe4T8e",
        "outputId": "b25bdf6f-adb6-460f-eed8-285af468d35c"
      },
      "execution_count": 100,
      "outputs": [
        {
          "output_type": "stream",
          "name": "stdout",
          "text": [
            "<class 'set'>\n"
          ]
        }
      ]
    }
  ]
}