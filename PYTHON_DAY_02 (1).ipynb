{
  "nbformat": 4,
  "nbformat_minor": 0,
  "metadata": {
    "colab": {
      "provenance": []
    },
    "kernelspec": {
      "name": "python3",
      "display_name": "Python 3"
    },
    "language_info": {
      "name": "python"
    }
  },
  "cells": [
    {
      "cell_type": "code",
      "source": [
        "a,b,c =\"Good\",\"Morning\",\"sir\"\n",
        "print(a,b,c)"
      ],
      "metadata": {
        "colab": {
          "base_uri": "https://localhost:8080/"
        },
        "id": "jttV9ACVLZDA",
        "outputId": "0762924a-5e48-435e-c4b1-11c2d087c5ce"
      },
      "execution_count": 5,
      "outputs": [
        {
          "output_type": "stream",
          "name": "stdout",
          "text": [
            "Good Morning sir\n"
          ]
        }
      ]
    },
    {
      "cell_type": "code",
      "source": [
        "Name , College , Degree , Roll=\"Sumit Tanaji Lagale\",\"Bk\",\"BCA\",178\n",
        "print(\"Hi,Good morning,I'm\",Name,\"i'm studying\",Degree,\"in\",College,\"college at chikodi\",\"My roll number is\",Roll)"
      ],
      "metadata": {
        "colab": {
          "base_uri": "https://localhost:8080/"
        },
        "id": "q6J3nJoJMU-B",
        "outputId": "801cc679-28a1-4c12-af03-f991f49ed3fb"
      },
      "execution_count": 13,
      "outputs": [
        {
          "output_type": "stream",
          "name": "stdout",
          "text": [
            "Hi,Good morning,I'm Sumit Tanaji Lagale i'm studying BCA in Bk college at chikodi My roll number is 178\n"
          ]
        }
      ]
    },
    {
      "cell_type": "code",
      "source": [
        "x=y=z=1001\n",
        "print(x,y,z)"
      ],
      "metadata": {
        "colab": {
          "base_uri": "https://localhost:8080/"
        },
        "id": "4Z_n7-sBQC2H",
        "outputId": "99b853ac-cc78-4e3b-da0d-2e1220c8abe8"
      },
      "execution_count": 84,
      "outputs": [
        {
          "output_type": "stream",
          "name": "stdout",
          "text": [
            "1001 1001 1001\n"
          ]
        }
      ]
    },
    {
      "cell_type": "code",
      "source": [
        "a=b=c=\"college\",25\n",
        "print(b,c,a)"
      ],
      "metadata": {
        "colab": {
          "base_uri": "https://localhost:8080/"
        },
        "id": "3-CvG7YsQhXe",
        "outputId": "03a7f0c5-dd92-4c5d-efef-beb9405c2e6f"
      },
      "execution_count": 16,
      "outputs": [
        {
          "output_type": "stream",
          "name": "stdout",
          "text": [
            "('college', 25) ('college', 25) ('college', 25)\n"
          ]
        }
      ]
    },
    {
      "cell_type": "code",
      "source": [
        "a=10\n",
        "b=20\n",
        "print(\"addition of \",a,\"and\",b,\"is\",a+b)"
      ],
      "metadata": {
        "colab": {
          "base_uri": "https://localhost:8080/"
        },
        "id": "S57pck6CQ9ON",
        "outputId": "a755dcbd-4c1f-457c-d47b-16622384e13d"
      },
      "execution_count": 18,
      "outputs": [
        {
          "output_type": "stream",
          "name": "stdout",
          "text": [
            "addition of  10 and 20 is 30\n"
          ]
        }
      ]
    },
    {
      "cell_type": "code",
      "source": [
        " a=10\n",
        " print(type(a))"
      ],
      "metadata": {
        "colab": {
          "base_uri": "https://localhost:8080/"
        },
        "id": "oh0QuYqMUK_D",
        "outputId": "4ca822bf-f524-496a-a2a8-96cf79f60c16"
      },
      "execution_count": 19,
      "outputs": [
        {
          "output_type": "stream",
          "name": "stdout",
          "text": [
            "<class 'int'>\n"
          ]
        }
      ]
    },
    {
      "cell_type": "code",
      "source": [
        "x=35\n",
        "print(type(x))"
      ],
      "metadata": {
        "colab": {
          "base_uri": "https://localhost:8080/"
        },
        "id": "6orVMFF1VkPr",
        "outputId": "08db8e82-9ee7-423f-99c3-5f523df499e3"
      },
      "execution_count": 20,
      "outputs": [
        {
          "output_type": "stream",
          "name": "stdout",
          "text": [
            "<class 'int'>\n"
          ]
        }
      ]
    },
    {
      "cell_type": "code",
      "source": [
        "x=-100\n",
        "print(type(x))"
      ],
      "metadata": {
        "colab": {
          "base_uri": "https://localhost:8080/"
        },
        "id": "EiIO6C7oXQci",
        "outputId": "151bee89-d6c4-4674-b4de-c030ad1ee8f2"
      },
      "execution_count": 21,
      "outputs": [
        {
          "output_type": "stream",
          "name": "stdout",
          "text": [
            "<class 'int'>\n"
          ]
        }
      ]
    },
    {
      "cell_type": "code",
      "source": [
        "s=+200\n",
        "print(type(+200))"
      ],
      "metadata": {
        "colab": {
          "base_uri": "https://localhost:8080/"
        },
        "id": "77iaYDCFXXer",
        "outputId": "dcdf801c-0ffd-44c2-bbf3-e066b551acfc"
      },
      "execution_count": 22,
      "outputs": [
        {
          "output_type": "stream",
          "name": "stdout",
          "text": [
            "<class 'int'>\n"
          ]
        }
      ]
    },
    {
      "cell_type": "code",
      "source": [
        "m=3.33\n",
        "print(type(m))"
      ],
      "metadata": {
        "colab": {
          "base_uri": "https://localhost:8080/"
        },
        "id": "VUjKhqBtXgvL",
        "outputId": "75ead985-038e-45e2-e79f-299af4ec4d7b"
      },
      "execution_count": 24,
      "outputs": [
        {
          "output_type": "stream",
          "name": "stdout",
          "text": [
            "<class 'float'>\n"
          ]
        }
      ]
    },
    {
      "cell_type": "code",
      "source": [
        "sumit=11.345\n",
        "print(type(sumit))"
      ],
      "metadata": {
        "colab": {
          "base_uri": "https://localhost:8080/"
        },
        "id": "dFldmoaDXl2T",
        "outputId": "56d280da-eb23-4a18-a745-18eb88ebcc6f"
      },
      "execution_count": 25,
      "outputs": [
        {
          "output_type": "stream",
          "name": "stdout",
          "text": [
            "<class 'float'>\n"
          ]
        }
      ]
    },
    {
      "cell_type": "code",
      "source": [
        "first =\"BK\"\n",
        "second =\"college\"\n",
        "print(((first+\" \"+second)+\"\\n\")*5)"
      ],
      "metadata": {
        "colab": {
          "base_uri": "https://localhost:8080/"
        },
        "id": "O_icH3l7cjTe",
        "outputId": "373d10cd-e8ef-442b-b794-0acc48bd0459"
      },
      "execution_count": 86,
      "outputs": [
        {
          "output_type": "stream",
          "name": "stdout",
          "text": [
            "BK college\n",
            "BK college\n",
            "BK college\n",
            "BK college\n",
            "BK college\n",
            "\n"
          ]
        }
      ]
    },
    {
      "cell_type": "code",
      "source": [
        "Name =\"python programming language\"\n",
        "print(Name[5])\n",
        "print(Name[-2])\n",
        "print(Name[6])\n",
        "print(Name[3:14])"
      ],
      "metadata": {
        "colab": {
          "base_uri": "https://localhost:8080/"
        },
        "id": "6OEulEk0mm3W",
        "outputId": "8ac3129a-413c-41c2-d1bd-dfa61fd5ea88"
      },
      "execution_count": 91,
      "outputs": [
        {
          "output_type": "stream",
          "name": "stdout",
          "text": [
            "n\n",
            "g\n",
            " \n",
            "hon program\n",
            "python programming l\n"
          ]
        }
      ]
    },
    {
      "cell_type": "code",
      "source": [
        "Name =\"python programmig languages\"\n",
        "print(Name[6:])\n",
        "print(Name[:-1])\n",
        "print(Name[-22:-4])\n",
        "print(Name[::1])\n",
        "print(Name[::2])\n",
        "print(Name[::-1])\n",
        "print(Name[::-3])"
      ],
      "metadata": {
        "colab": {
          "base_uri": "https://localhost:8080/"
        },
        "id": "iO1i7o3SoJ2j",
        "outputId": "67056100-f679-41d2-d7b3-13db79b698d5"
      },
      "execution_count": 102,
      "outputs": [
        {
          "output_type": "stream",
          "name": "stdout",
          "text": [
            " programmig languages\n",
            "python programmig language\n",
            "n programmig langu\n",
            "python programmig languages\n",
            "pto rgamglnugs\n",
            "segaugnal gimmargorp nohtyp\n",
            "san mrrnt\n"
          ]
        }
      ]
    },
    {
      "cell_type": "code",
      "source": [
        "Details='''multi line comments\n",
        "hi,Good Morning\n",
        "'''\n",
        "print(Details)"
      ],
      "metadata": {
        "colab": {
          "base_uri": "https://localhost:8080/"
        },
        "id": "-Zvr7mzfsd9I",
        "outputId": "449f245b-9ecf-496b-9a6f-9bdc2d1b8d21"
      },
      "execution_count": 106,
      "outputs": [
        {
          "output_type": "stream",
          "name": "stdout",
          "text": [
            "multi line comments\n",
            "hi,Good Morning\n",
            "\n"
          ]
        }
      ]
    },
    {
      "cell_type": "code",
      "source": [
        "Roll=1,2,3,4,5,6,7,8,9,10,11,12,13,14,15,16,17,18,19,20,21,2,23,24,25,26,27,28,29,30,31,32,33,34,35,36,37,38,39,40,41,42,43,44,45,46,47,48,49,50,51,52,53,54,55,56,57,58,59,60\n",
        "print(Roll)"
      ],
      "metadata": {
        "colab": {
          "base_uri": "https://localhost:8080/"
        },
        "id": "89JjUdlRuBen",
        "outputId": "f78862b5-6fff-4726-de4f-06159f93a3e8"
      },
      "execution_count": 115,
      "outputs": [
        {
          "output_type": "stream",
          "name": "stdout",
          "text": [
            "(1, 2, 3, 4, 5, 6, 7, 8, 9, 10, 11, 12, 13, 14, 15, 16, 17, 18, 19, 20, 21, 2, 23, 24, 25, 26, 27, 28, 29, 30, 31, 32, 33, 34, 35, 36, 37, 38, 39, 40, 41, 42, 43, 44, 45, 46, 47, 48, 49, 50, 51, 52, 53, 54, 55, 56, 57, 58, 59, 60)\n"
          ]
        }
      ]
    },
    {
      "cell_type": "code",
      "source": [
        "list =[101]\n",
        "print(list.append(\"basavraj\"))"
      ],
      "metadata": {
        "colab": {
          "base_uri": "https://localhost:8080/"
        },
        "id": "lfBRqEUm6ndV",
        "outputId": "cf6e6da2-d68c-469e-a90f-71169e19d3a4"
      },
      "execution_count": 119,
      "outputs": [
        {
          "output_type": "stream",
          "name": "stdout",
          "text": [
            "None\n"
          ]
        }
      ]
    },
    {
      "cell_type": "code",
      "source": [
        "list=(\"basavraj\")\n",
        "print(list)"
      ],
      "metadata": {
        "colab": {
          "base_uri": "https://localhost:8080/"
        },
        "id": "5JkMvnh47cda",
        "outputId": "774d238e-d125-4b8f-bf4c-b9c75d459596"
      },
      "execution_count": 121,
      "outputs": [
        {
          "output_type": "stream",
          "name": "stdout",
          "text": [
            "basavraj\n"
          ]
        }
      ]
    },
    {
      "cell_type": "code",
      "source": [
        "details =[101]\n",
        "print(details)\n",
        "print(type(details))\n",
        "details.append(85.12)\n",
        "print(details)\n",
        "details.append(True)\n",
        "print(details)\n",
        "print(len(details))\n",
        "print(details.pop())\n",
        "print(details)\n",
        "details.append(\"sumit\")\n",
        "print(details)\n",
        "details.append(-99)\n",
        "print(details)\n",
        "print(len(details))\n",
        "print(details[2])\n",
        "print(details[-1])\n",
        "details.append(\"BK college \")\n",
        "print(details)\n",
        "print(details[4])\n",
        "details[3]=99\n",
        "print(details)\n",
        "print(details[2:4])\n",
        "details.insert(2,False)\n",
        "print(details)\n",
        "print(len(details))\n",
        "details.remove(False)\n",
        "print(len(details))\n",
        "print(details[4])\n",
        "print(details[::-1])\n",
        "print(details.count(101))\n",
        "print(details.clear())\n",
        "print(details)\n",
        "print(type(details))"
      ],
      "metadata": {
        "colab": {
          "base_uri": "https://localhost:8080/"
        },
        "id": "c5WS4fJ6TAVh",
        "outputId": "d139f521-ccc2-4abb-d9f9-403f7297dca4"
      },
      "execution_count": 155,
      "outputs": [
        {
          "output_type": "stream",
          "name": "stdout",
          "text": [
            "[101]\n",
            "<class 'list'>\n",
            "[101, 85.12]\n",
            "[101, 85.12, True]\n",
            "3\n",
            "True\n",
            "[101, 85.12]\n",
            "[101, 85.12, 'sumit']\n",
            "[101, 85.12, 'sumit', -99]\n",
            "4\n",
            "sumit\n",
            "-99\n",
            "[101, 85.12, 'sumit', -99, 'BK college ']\n",
            "BK college \n",
            "[101, 85.12, 'sumit', 99, 'BK college ']\n",
            "['sumit', 99]\n",
            "[101, 85.12, False, 'sumit', 99, 'BK college ']\n",
            "6\n",
            "5\n",
            "BK college \n",
            "['BK college ', 99, 'sumit', 85.12, 101]\n",
            "1\n",
            "None\n",
            "[]\n",
            "<class 'list'>\n"
          ]
        }
      ]
    },
    {
      "cell_type": "code",
      "source": [
        "Roll =[178]\n",
        "print(Roll)\n",
        "print(type(Roll))\n",
        "Roll.append(85.12)\n",
        "print(Roll)\n",
        "Roll.append(True)\n",
        "print(Roll)\n",
        "print(len(Roll))\n",
        "print(Roll.pop())\n",
        "print(Roll)\n",
        "Roll.append(\"sumit\")\n",
        "print(Roll)\n",
        "Roll.append(-11)\n",
        "print(Roll)\n",
        "print(len(Roll))\n",
        "print(Roll[2])\n",
        "print(Roll[-1])\n",
        "Roll.append(\"BK college \")\n",
        "print(Roll)\n",
        "print(Roll[4])\n",
        "Roll[3]=11\n",
        "print(Roll)\n",
        "print(Roll[2:4])\n",
        "Roll.insert(2,False)\n",
        "print(Roll)\n",
        "print(len(Roll))\n",
        "Roll.remove(False)\n",
        "print(len(Roll))\n",
        "print(Roll[4])\n",
        "print(Roll[::-1])\n",
        "print(Roll.count(101))\n",
        "print(Roll.clear())\n",
        "print(Roll)\n",
        "print(type(Roll))"
      ],
      "metadata": {
        "colab": {
          "base_uri": "https://localhost:8080/"
        },
        "id": "3eL7h2ScfIfm",
        "outputId": "cf4823fe-05dd-41c6-bb80-d268d6fc8932"
      },
      "execution_count": 165,
      "outputs": [
        {
          "output_type": "stream",
          "name": "stdout",
          "text": [
            "[178]\n",
            "<class 'list'>\n",
            "[178, 85.12]\n",
            "[178, 85.12, True]\n",
            "3\n",
            "True\n",
            "[178, 85.12]\n",
            "[178, 85.12, 'sumit']\n",
            "[178, 85.12, 'sumit', -11]\n",
            "4\n",
            "sumit\n",
            "-11\n",
            "[178, 85.12, 'sumit', -11, 'BK college ']\n",
            "BK college \n",
            "[178, 85.12, 'sumit', 11, 'BK college ']\n",
            "['sumit', 11]\n",
            "[178, 85.12, False, 'sumit', 11, 'BK college ']\n",
            "6\n",
            "5\n",
            "BK college \n",
            "['BK college ', 11, 'sumit', 85.12, 178]\n",
            "0\n",
            "None\n",
            "[]\n",
            "<class 'list'>\n"
          ]
        }
      ]
    }
  ]
}